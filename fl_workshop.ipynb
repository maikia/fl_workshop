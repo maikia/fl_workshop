{
 "cells": [
  {
   "cell_type": "markdown",
   "id": "0ba2ac0a",
   "metadata": {},
   "source": [
    "<table><tr>\n",
    "<td>\n",
    "    <img src=\"https://raw.githubusercontent.com/maikia/fl_workshop/eff132c0572d437175ac14661b6a5dfd37b4d906/figs/owkin.jpeg\" width=\"100px\" /> \n",
    "</td>\n",
    "<td> \n",
    "    <img src=\"https://raw.githubusercontent.com/maikia/fl_workshop/main/figs/substra-logo.svg\" width=\"100px\" /> </td>\n",
    "<td> \n",
    "    <img src=\"https://raw.githubusercontent.com/maikia/fl_workshop/main/figs/pylady_simple_paris_2.png\" width=\"100px\" />\n",
    "</td>\n",
    "</tr>\n",
    "    <tr><td>Owkin</td><td>Substra</td><td>Pyladies Paris</td></table>"
   ]
  },
  {
   "cell_type": "markdown",
   "id": "31078397",
   "metadata": {},
   "source": [
    "# Introduction to Federated Learning (FL)<a class=\"anchor\" id=\"fl\"></a>\n",
    "\n",
    "**author**: [Maria Telenczuk](https://github.com/maikia)\n",
    "\n",
    "This work is based and inspired by existing resources especially on [`phe` example](https://github.com/data61/python-paillier/blob/master/examples/federated_learning_with_encryption.py) has been reused. Please refer to [Resources](#resources) section."
   ]
  },
  {
   "cell_type": "markdown",
   "id": "67fb3e0a",
   "metadata": {},
   "source": [
    "**Federated learning** is a technique used in machine learning to preserve the security of the data stored in different physical locations (further also refered to as sites or clients). The data nor any information on the data may ever leave the site. At the same time the machine learning models use the data stored on all sites for training. \n",
    "\n",
    "This is an introductory workshop in which, together, we will get a better understanding on how FL works and create a simple FL setup. This said, if you have any comments on how to improve or find any bugs please consider filing an issue or submitting a PR.\n",
    "\n",
    "If you consider working in Federated Learning setting consider using [Substra](https://doc.substra.ai/) for your FL projects. Substra is a framework offering distributed orchestration of machine learning tasks among partners while guaranteeing secure and trustless traceability of all operations.\n"
   ]
  },
  {
   "cell_type": "markdown",
   "id": "d6c29d9b",
   "metadata": {},
   "source": [
    "## Table of Contents:\n",
    "* [Introduction to Federated Learning (FL)](#fl)\n",
    "    * [Getting started](#get-started)\n",
    "    * [Let's speak data](#data)\n",
    "* [Resources](#resources)"
   ]
  },
  {
   "cell_type": "markdown",
   "id": "e58e03e1",
   "metadata": {},
   "source": [
    "## Getting Started <a class=\"anchor\" id=\"get-started\"></a>\n",
    "\n",
    "1. Previous experience with `Python` is required. Understanding general machine learning concepts is advisable\n",
    "1. We will be using `Jupyter` (`jupyter notebook` or `jupyter lab` will work just fine). For a quick intro refer to: [Introduction to Jupyter](jupyter_intro.ipynb)\n",
    "\n",
    "1. You will also need to have installed few additional libraries: `scikit-learn`, `phe`, `numpy` and `matplotlib`.\n",
    "    If you don't have them already installed you can do so (using `pip`) by executing the line below:"
   ]
  },
  {
   "cell_type": "code",
   "execution_count": 22,
   "id": "96a156b4",
   "metadata": {},
   "outputs": [
    {
     "name": "stdout",
     "output_type": "stream",
     "text": [
      "Requirement already satisfied: numpy in /Users/owkin/miniconda3/envs/temp-fl/lib/python3.7/site-packages (1.21.2)\n",
      "Requirement already satisfied: matplotlib in /Users/owkin/miniconda3/envs/temp-fl/lib/python3.7/site-packages (3.4.3)\n",
      "Requirement already satisfied: phe in /Users/owkin/miniconda3/envs/temp-fl/lib/python3.7/site-packages (1.4.0)\n",
      "Requirement already satisfied: sklearn in /Users/owkin/miniconda3/envs/temp-fl/lib/python3.7/site-packages (0.0)\n",
      "Requirement already satisfied: cycler>=0.10 in /Users/owkin/miniconda3/envs/temp-fl/lib/python3.7/site-packages (from matplotlib) (0.10.0)\n",
      "Requirement already satisfied: python-dateutil>=2.7 in /Users/owkin/miniconda3/envs/temp-fl/lib/python3.7/site-packages (from matplotlib) (2.8.2)\n",
      "Requirement already satisfied: pyparsing>=2.2.1 in /Users/owkin/miniconda3/envs/temp-fl/lib/python3.7/site-packages (from matplotlib) (2.4.7)\n",
      "Requirement already satisfied: kiwisolver>=1.0.1 in /Users/owkin/miniconda3/envs/temp-fl/lib/python3.7/site-packages (from matplotlib) (1.3.2)\n",
      "Requirement already satisfied: pillow>=6.2.0 in /Users/owkin/miniconda3/envs/temp-fl/lib/python3.7/site-packages (from matplotlib) (8.3.2)\n",
      "Requirement already satisfied: six in /Users/owkin/miniconda3/envs/temp-fl/lib/python3.7/site-packages (from cycler>=0.10->matplotlib) (1.16.0)\n",
      "Requirement already satisfied: scikit-learn in /Users/owkin/miniconda3/envs/temp-fl/lib/python3.7/site-packages (from sklearn) (0.24.2)\n",
      "Requirement already satisfied: scipy>=0.19.1 in /Users/owkin/miniconda3/envs/temp-fl/lib/python3.7/site-packages (from scikit-learn->sklearn) (1.7.1)\n",
      "Requirement already satisfied: threadpoolctl>=2.0.0 in /Users/owkin/miniconda3/envs/temp-fl/lib/python3.7/site-packages (from scikit-learn->sklearn) (2.2.0)\n",
      "Requirement already satisfied: joblib>=0.11 in /Users/owkin/miniconda3/envs/temp-fl/lib/python3.7/site-packages (from scikit-learn->sklearn) (1.0.1)\n"
     ]
    }
   ],
   "source": [
    "# install\n",
    "!{sys.executable} -m pip install numpy matplotlib phe sklearn"
   ]
  },
  {
   "cell_type": "markdown",
   "id": "34e1ed7b",
   "metadata": {},
   "source": [
    "## Let's speak data <a class=\"anchor\" id=\"data\"></a>\n",
    "\n",
    "If you already have some experience with machine learning you know the importance of the data. Here, we are talking about very sensitive data. Let's imagine few use cases:\n",
    "\n",
    "- mobile phones: use the data from messages on mobile phones towards better text complition. There is only a little data on each phone but it might be very sensitive, therefore it should never leave the phone for the training.\n",
    "- medical data (hospitals): very sensitive data. Training may potentially benefit from adding more data\n",
    "- pharmaceutical companies: precious and often expensive to gather data\n",
    "\n",
    "We will work on diabetics dataset. This is open dataset which is available from [`Scikit-learn`](https://scikit-learn.org/stable/datasets/toy_dataset.html#diabetes-dataset) but let's imagine that this is very sensitive dataset for the needs of this workshop:"
   ]
  },
  {
   "cell_type": "markdown",
   "id": "4d76d905",
   "metadata": {},
   "source": [
    "### Imports\n",
    "First, we need to import all the necessary libraries"
   ]
  },
  {
   "cell_type": "code",
   "execution_count": 100,
   "id": "ec68d9ea",
   "metadata": {},
   "outputs": [],
   "source": [
    "import matplotlib.pylab as plt\n",
    "import numpy as np\n",
    "from sklearn.datasets import load_diabetes\n",
    "from sklearn.metrics import mean_squared_error\n",
    "\n",
    "import phe as paillier\n",
    "\n",
    "seed = 42\n",
    "np.random.seed(seed)\n",
    "\n",
    "%matplotlib inline"
   ]
  },
  {
   "cell_type": "markdown",
   "id": "a0b4efe2",
   "metadata": {},
   "source": [
    "### Understand the data"
   ]
  },
  {
   "cell_type": "code",
   "execution_count": 37,
   "id": "1e4b8388",
   "metadata": {},
   "outputs": [
    {
     "name": "stdout",
     "output_type": "stream",
     "text": [
      "Data consists of 442 diabetes patients\n",
      "and 10 baseline variables:\n",
      "age, sex, body mass index, average blood pressure, and six blood serum measurements\n"
     ]
    }
   ],
   "source": [
    "diabetes = load_diabetes()\n",
    "y = diabetes.target\n",
    "X = diabetes.data\n",
    "\n",
    "print(f'Data consists of {len(X)} diabetes patients')\n",
    "print(f'and {X.shape[1]} baseline variables:')\n",
    "print('age, sex, body mass index, average blood pressure, and six blood serum measurements')"
   ]
  },
  {
   "cell_type": "markdown",
   "id": "4292f1b3",
   "metadata": {},
   "source": [
    "Target column is a quantitative measure of disease progression one year after baseline"
   ]
  },
  {
   "cell_type": "code",
   "execution_count": 81,
   "id": "39389bdd",
   "metadata": {},
   "outputs": [
    {
     "data": {
      "image/png": "[encoded data removed]",
      "text/plain": [
       "<Figure size 432x288 with 1 Axes>"
      ]
     },
     "metadata": {
      "needs_background": "light"
     },
     "output_type": "display_data"
    }
   ],
   "source": [
    "def plot_target(ax, y):\n",
    "    y_sorted = np.argsort(y)\n",
    "\n",
    "    ax.set_title('sorted target')\n",
    "    ax.plot(y[y_sorted])\n",
    "    ax.set_ylabel('disease progression')\n",
    "    ax.set_xlabel('patient [n]')\n",
    "\n",
    "    # Hide the right and top spines\n",
    "    ax.spines['right'].set_visible(False)\n",
    "    ax.spines['top'].set_visible(False)\n",
    "ax = plt.subplot(111)\n",
    "plot_target(ax, y)"
   ]
  },
  {
   "cell_type": "code",
   "execution_count": 80,
   "id": "bc47534d",
   "metadata": {},
   "outputs": [],
   "source": [
    "# split to test and train datasets\n",
    "test_size = 50\n",
    "test_idx = np.random.choice(X.shape[0], size=test_size, replace=False)\n",
    "train_idx = np.ones(X.shape[0], dtype=bool)\n",
    "train_idx[test_idx] = False\n",
    "X_test, y_test = X[test_idx, :], y[test_idx]\n",
    "X_train, y_train = X[train_idx, :], y[train_idx]"
   ]
  },
  {
   "cell_type": "markdown",
   "id": "8efab6fd",
   "metadata": {},
   "source": [
    "### train the model\n",
    "\n",
    "To solve the problem we will use Linear Regression. We will start from preparing a class Client which we will later update for our FL setting"
   ]
  },
  {
   "cell_type": "code",
   "execution_count": 131,
   "id": "dad177df",
   "metadata": {},
   "outputs": [],
   "source": [
    "class Client:\n",
    "    \"\"\"\n",
    "    Client using linear regression to fit the data\n",
    "    \"\"\"\n",
    "    def __init__(self, name):\n",
    "        self.name = name\n",
    "        self.weights = np.zeros(X.shape[1])\n",
    "    \n",
    "    def fit(self, X, y, n_iter, eta=0.01):\n",
    "        \"\"\"Linear regression for n_iter\"\"\"\n",
    "        for _ in range(n_iter):\n",
    "            gradient = self.compute_gradient(X, y)\n",
    "            self.gradient_step(gradient, eta)\n",
    "    \n",
    "    def compute_gradient(self, X, y):\n",
    "        \"\"\"Compute the gradient of the current model using the training set\n",
    "        \"\"\"\n",
    "        delta = self.predict(X) - y\n",
    "        return delta.dot(X) / len(X)\n",
    "\n",
    "    def gradient_step(self, gradient, eta=0.01):\n",
    "        \"\"\"Update the model with the given gradient\"\"\"\n",
    "        self.weights -= eta * gradient\n",
    "\n",
    "    def predict(self, X):\n",
    "        \"\"\"Score test data\"\"\"\n",
    "        return X.dot(self.weights)\n",
    "\n",
    "n_iter = 50\n",
    "c = Client(name=\"Hospital\")\n",
    "c.fit(X_train, y_train, n_iter=n_iter, eta=1.5)\n",
    "y_pred = c.predict(X_test)"
   ]
  },
  {
   "cell_type": "markdown",
   "id": "a16a410f",
   "metadata": {},
   "source": [
    "We will use mean square error (mse) from sklearn to score the results:"
   ]
  },
  {
   "cell_type": "code",
   "execution_count": 132,
   "id": "f9a13648",
   "metadata": {},
   "outputs": [
    {
     "name": "stdout",
     "output_type": "stream",
     "text": [
      "Hospital:\t26240.48\n"
     ]
    }
   ],
   "source": [
    "mse = mean_square_error(y_pred, y_test)\n",
    "print('{:s}:\\t{:.2f}'.format(c.name, mse))"
   ]
  },
  {
   "cell_type": "markdown",
   "id": "09e518fa",
   "metadata": {},
   "source": [
    "This is what we would do if we just wanted to train the data of the Client on Linear Regression. Now we will split the data to multiple locations:"
   ]
  },
  {
   "cell_type": "code",
   "execution_count": 136,
   "id": "c06165e5",
   "metadata": {},
   "outputs": [],
   "source": [
    "# note: this and most of the following functions are reused from phe example cited above\n",
    "def get_data(n_clients):\n",
    "    \"\"\"\n",
    "    Import the dataset via sklearn, shuffle and split train/test.\n",
    "    Return training, target lists for `n_clients` and a holdout test set\n",
    "    \"\"\"\n",
    "    print(\"Loading data\")\n",
    "    diabetes = load_diabetes()\n",
    "    y = diabetes.target\n",
    "    X = diabetes.data\n",
    "    # Add constant to emulate intercept\n",
    "    X = np.c_[X, np.ones(X.shape[0])]\n",
    "\n",
    "    # The features are already preprocessed\n",
    "    # Shuffle\n",
    "    perm = np.random.permutation(X.shape[0])\n",
    "    X, y = X[perm, :], y[perm]\n",
    "\n",
    "    # Select test at random\n",
    "    test_size = 50\n",
    "    test_idx = np.random.choice(X.shape[0], size=test_size, replace=False)\n",
    "    train_idx = np.ones(X.shape[0], dtype=bool)\n",
    "    train_idx[test_idx] = False\n",
    "    X_test, y_test = X[test_idx, :], y[test_idx]\n",
    "    X_train, y_train = X[train_idx, :], y[train_idx]\n",
    "\n",
    "    # Split train among multiple clients.\n",
    "    # The selection is not at random. We simulate the fact that each client\n",
    "    # sees a potentially very different sample of patients.\n",
    "    X, y = [], []\n",
    "    step = int(X_train.shape[0] / n_clients)\n",
    "    for c in range(n_clients):\n",
    "        X.append(X_train[step * c: step * (c + 1), :])\n",
    "        y.append(y_train[step * c: step * (c + 1)])\n",
    "\n",
    "    return X, y, X_test, y_test"
   ]
  },
  {
   "cell_type": "code",
   "execution_count": 141,
   "id": "f158bc50",
   "metadata": {},
   "outputs": [
    {
     "name": "stdout",
     "output_type": "stream",
     "text": [
      "Loading data\n"
     ]
    }
   ],
   "source": [
    "# load data, train/test split and split training data between clients\n",
    "n_clients = 3\n",
    "Xs_train, ys_train, X_test, y_test = get_data(n_clients=n_clients)"
   ]
  },
  {
   "cell_type": "markdown",
   "id": "e4c2c27d",
   "metadata": {},
   "source": [
    "We also need to update the `Client` class to store the data. The data is now passed to the `Client` at the creation of the class instead of at fit. The idea is, that afterwards, the data may no longer leave the client. In real production settings this would have been secured. "
   ]
  },
  {
   "cell_type": "code",
   "execution_count": 144,
   "id": "72b1050b",
   "metadata": {},
   "outputs": [],
   "source": [
    "class Client:\n",
    "    \"\"\"\n",
    "    Client using linear regression to fit the data\n",
    "    \"\"\"\n",
    "    def __init__(self, name, X, y):\n",
    "        self.name = name\n",
    "        self.X = X\n",
    "        self.y = y\n",
    "        self.weights = np.zeros(X.shape[1])\n",
    "    \n",
    "    def fit(self, n_iter, eta=0.01):\n",
    "        \"\"\"Linear regression for n_iter\"\"\"\n",
    "        for _ in range(n_iter):\n",
    "            gradient = self.compute_gradient()\n",
    "            self.gradient_step(gradient, eta)\n",
    "    \n",
    "    def compute_gradient(self):\n",
    "        \"\"\"Compute the gradient of the current model using the training set\n",
    "        \"\"\"\n",
    "        delta = self.predict(self.X) - self.y\n",
    "        return delta.dot(self.X) / len(self.X)\n",
    "\n",
    "    def gradient_step(self, gradient, eta=0.01):\n",
    "        \"\"\"Update the model with the given gradient\"\"\"\n",
    "        self.weights -= eta * gradient\n",
    "\n",
    "    def predict(self, X):\n",
    "        \"\"\"Score test data\"\"\"\n",
    "        return X.dot(self.weights)"
   ]
  },
  {
   "cell_type": "code",
   "execution_count": 147,
   "id": "0cdab2bf",
   "metadata": {},
   "outputs": [
    {
     "name": "stdout",
     "output_type": "stream",
     "text": [
      "Hospital0:\t5384.72\n",
      "Hospital1:\t5084.52\n",
      "Hospital2:\t5359.23\n"
     ]
    }
   ],
   "source": [
    "n_iter = 50\n",
    "\n",
    "for i in range(n_clients):\n",
    "    c = Client(name=\"Hospital\" + str(i), X=Xs_train[i], y=ys_train[i])\n",
    "    c.fit(n_iter=n_iter, eta=1.5)\n",
    "    y_pred = c.predict(X_test)\n",
    "    mse = mean_square_error(y_pred, y_test)\n",
    "    print('{:s}:\\t{:.2f}'.format(c.name, mse))"
   ]
  },
  {
   "cell_type": "markdown",
   "id": "b9709a7e",
   "metadata": {},
   "source": [
    "We have all the parts for local training ready, so let's just combine them together for a simpler read:"
   ]
  },
  {
   "cell_type": "code",
   "execution_count": 148,
   "id": "860b0def",
   "metadata": {},
   "outputs": [
    {
     "name": "stdout",
     "output_type": "stream",
     "text": [
      "Loading data\n",
      "Hospital0:\t5301.40\n",
      "Hospital1:\t5213.25\n",
      "Hospital2:\t5574.28\n"
     ]
    }
   ],
   "source": [
    "def local_training(n_clients, n_iter=50, eta=1.5):\n",
    "    # divide the data between n_clients\n",
    "    Xs_train, ys_train, X_test, y_test = get_data(n_clients=n_clients)\n",
    "\n",
    "    # create n_clients \n",
    "    for i in range(n_clients):\n",
    "        c = Client(name=\"Hospital\" + str(i), X=Xs_train[i], y=ys_train[i])\n",
    "        c.fit(n_iter=n_iter, eta=eta)\n",
    "        y_pred = c.predict(X_test)\n",
    "        mse = mean_square_error(y_pred, y_test)\n",
    "        print('{:s}:\\t{:.2f}'.format(c.name, mse))\n",
    "\n",
    "n_clients = 3\n",
    "n_iter = 50\n",
    "local_training(n_clients, n_iter)"
   ]
  },
  {
   "cell_type": "markdown",
   "id": "19650f1e",
   "metadata": {},
   "source": [
    "We are good to start with the federated learning part. So far we created 3 hospitals training on their own data. Now at each round we want to receive the calculated gradients from each Client, average them together and then pass them back for further training."
   ]
  },
  {
   "cell_type": "code",
   "execution_count": 155,
   "id": "42d34040",
   "metadata": {},
   "outputs": [
    {
     "name": "stdout",
     "output_type": "stream",
     "text": [
      "Loading data\n",
      "Running distributed gradient aggregation for 50 iterations\n",
      "Error (MSE) that each client gets after running the protocol:\n",
      "Hospital0:\t4236.45\n",
      "Hospital1:\t4236.45\n",
      "Hospital2:\t4236.45\n"
     ]
    }
   ],
   "source": [
    "def federated_learning(n_clients, n_iter, eta=1.5):\n",
    "    # divide the data between n_clients\n",
    "    Xs_train, ys_train, X_test, y_test = get_data(n_clients=n_clients)\n",
    "\n",
    "    # Instantiate the clients.\n",
    "    clients = []\n",
    "    for i in range(n_clients):\n",
    "        clients.append(Client(\"Hospital\" + str(i), Xs_train[i], ys_train[i]))\n",
    "\n",
    "    # The federated learning with gradient descent\n",
    "    print('Running distributed gradient aggregation for {:d} iterations'\n",
    "          .format(n_iter))\n",
    "    \n",
    "    for i in range(n_iter):\n",
    "        gradients = []\n",
    "        for next_c in range(n_clients):\n",
    "            gradient = clients[next_c].compute_gradient()\n",
    "            gradients.append(gradient)\n",
    "        aggr_gradient = np.mean(gradients, 0)\n",
    "\n",
    "        # Take gradient steps\n",
    "        for c in clients:\n",
    "            c.gradient_step(aggr_gradient, eta)\n",
    "\n",
    "    print('Error (MSE) that each client gets after running the protocol:')\n",
    "    for c in clients:\n",
    "        y_pred = c.predict(X_test)\n",
    "        mse = mean_square_error(y_pred, y_test)\n",
    "        print('{:s}:\\t{:.2f}'.format(c.name, mse))\n",
    "\n",
    "federated_learning(n_clients, n_iter)"
   ]
  },
  {
   "cell_type": "markdown",
   "id": "53d44b21",
   "metadata": {},
   "source": [
    "Ok. So all is well. We have the 3 clients. Each of them has their own data. The data never leaves any of them and only the gradients and aggregated gradients are sent around. \n",
    "\n",
    "However, this is not the end.\n"
   ]
  },
  {
   "cell_type": "code",
   "execution_count": 161,
   "id": "8d776ac3",
   "metadata": {},
   "outputs": [
    {
     "name": "stdout",
     "output_type": "stream",
     "text": [
      "Loading data\n"
     ]
    },
    {
     "data": {
      "text/plain": [
       "[<matplotlib.lines.Line2D at 0x7ffd43857d10>,\n",
       " <matplotlib.lines.Line2D at 0x7ffd43857190>,\n",
       " <matplotlib.lines.Line2D at 0x7ffd43857ed0>,\n",
       " <matplotlib.lines.Line2D at 0x7ffd43857fd0>,\n",
       " <matplotlib.lines.Line2D at 0x7ffd43865110>,\n",
       " <matplotlib.lines.Line2D at 0x7ffd43865210>,\n",
       " <matplotlib.lines.Line2D at 0x7ffd43865390>,\n",
       " <matplotlib.lines.Line2D at 0x7ffd43865490>,\n",
       " <matplotlib.lines.Line2D at 0x7ffd43865590>,\n",
       " <matplotlib.lines.Line2D at 0x7ffd43865250>,\n",
       " <matplotlib.lines.Line2D at 0x7ffd44a7e610>]"
      ]
     },
     "execution_count": 161,
     "metadata": {},
     "output_type": "execute_result"
    },
    {
     "data": {
      "image/png": "[encoded data removed]",
      "text/plain": [
       "<Figure size 432x288 with 1 Axes>"
      ]
     },
     "metadata": {
      "needs_background": "light"
     },
     "output_type": "display_data"
    }
   ],
   "source": [
    "Xs_train, ys_train, X_test, y_test = get_data(n_clients=n_clients)\n"
   ]
  },
  {
   "cell_type": "markdown",
   "id": "71e7a04c",
   "metadata": {},
   "source": [
    "## prepare the data"
   ]
  },
  {
   "cell_type": "markdown",
   "id": "2bb7c96b",
   "metadata": {},
   "source": [
    "# Introduction to ML\n",
    "- data, mnistfashion or other\n",
    "- simple model\n",
    "- privacy. give examples: (personal data, phone/e-mail data, healthcare data etc)\n",
    "# show an image on classical ML\n",
    "# privacy issues\n",
    "# explain the concept of FL\n",
    "# FL challenges (performance and privacy, amount of data, trust of the algorithm if not seen, trust of the data of others etc\n",
    "This very much differs on the use case. The first article (give reference, google) describing the concept of FL was provided by Google for their usecase. A lot of phone users write their messages and it would be great to be able to suggest to them the rest of the message. It can be very personal what you write so the suggestion should be personalized, but you most likely won't provide enough data to train the deep learnig algorithm. On the other side it would be a security breach if all the messages, from all the phones were send to the single server for training. Google proposed that the model will be trained on each phone for one or more epochs and then the model, not the data will be send to the centralized location. This could be for example weights. In the centralized location the server then combines those weights, for example averages them and sends back to each of the phones. Those updated weights they then use for further training.\n",
    "\n",
    "In Owkin the use case is very different. The clients or sites are only very few but they have much larger data. The data is usually very sensitive and no information can leave the site. Nobody should even know how much of the data is on which site. You won't be able to check if it is well preprocessed or for the missing data so as you imagine it comes with additional challenges and I suppose, in all cases, some trust.\n",
    "\n",
    "Another challenge is a performance. The bottleneck of FL is communication: sending the model back and fourth and waiting until the processing is finished. Especially if the model is very big, and even more so if there are a lot of sites.\n",
    "\n",
    "\n"
   ]
  },
  {
   "cell_type": "markdown",
   "id": "d014a217",
   "metadata": {},
   "source": [
    "# so let's now imagine..."
   ]
  },
  {
   "cell_type": "markdown",
   "id": "814cbd7d",
   "metadata": {},
   "source": [
    "## update our model to fl settings"
   ]
  },
  {
   "cell_type": "code",
   "execution_count": 14,
   "id": "cdf19fb0",
   "metadata": {},
   "outputs": [
    {
     "name": "stdout",
     "output_type": "stream",
     "text": [
      "[1,    64] loss: 1.792\n",
      "[1,   128] loss: 1.002\n",
      "[1,   192] loss: 0.820\n",
      "[1,   256] loss: 0.731\n",
      "[1,   320] loss: 0.673\n",
      "[1,   384] loss: 0.660\n",
      "[1,   448] loss: 0.640\n",
      "[1,    64] loss: 1.826\n",
      "[1,   128] loss: 1.030\n",
      "[1,    64] loss: 1.792\n",
      "[1,   128] loss: 1.005\n",
      "[1,   192] loss: 0.824\n",
      "[1,   256] loss: 0.731\n",
      "continue to epoch,  0\n",
      "[2,    64] loss: 0.642\n",
      "[2,   128] loss: 0.635\n",
      "[2,   192] loss: 0.612\n",
      "[2,   256] loss: 0.583\n",
      "[2,   320] loss: 0.560\n",
      "[2,   384] loss: 0.535\n",
      "[2,   448] loss: 0.547\n",
      "[2,    64] loss: 0.665\n",
      "[2,   128] loss: 0.633\n",
      "[2,    64] loss: 0.646\n",
      "[2,   128] loss: 0.633\n",
      "[2,   192] loss: 0.608\n",
      "[2,   256] loss: 0.567\n",
      "continue to epoch,  1\n",
      "[3,    64] loss: 0.544\n",
      "[3,   128] loss: 0.519\n",
      "[3,   192] loss: 0.527\n",
      "[3,   256] loss: 0.524\n",
      "[3,   320] loss: 0.503\n",
      "[3,   384] loss: 0.511\n",
      "[3,   448] loss: 0.508\n",
      "[3,    64] loss: 0.536\n",
      "[3,   128] loss: 0.539\n",
      "[3,    64] loss: 0.548\n",
      "[3,   128] loss: 0.537\n",
      "[3,   192] loss: 0.529\n",
      "[3,   256] loss: 0.502\n",
      "continue to epoch,  2\n",
      "[4,    64] loss: 0.491\n",
      "[4,   128] loss: 0.495\n",
      "[4,   192] loss: 0.478\n",
      "[4,   256] loss: 0.458\n",
      "[4,   320] loss: 0.468\n",
      "[4,   384] loss: 0.460\n",
      "[4,   448] loss: 0.481\n",
      "[4,    64] loss: 0.485\n",
      "[4,   128] loss: 0.495\n",
      "[4,    64] loss: 0.518\n",
      "[4,   128] loss: 0.473\n",
      "[4,   192] loss: 0.465\n",
      "[4,   256] loss: 0.479\n",
      "continue to epoch,  3\n",
      "[5,    64] loss: 0.439\n",
      "[5,   128] loss: 0.447\n",
      "[5,   192] loss: 0.463\n",
      "[5,   256] loss: 0.450\n",
      "[5,   320] loss: 0.447\n",
      "[5,   384] loss: 0.425\n",
      "[5,   448] loss: 0.450\n",
      "[5,    64] loss: 0.470\n",
      "[5,   128] loss: 0.461\n",
      "[5,    64] loss: 0.471\n",
      "[5,   128] loss: 0.458\n",
      "[5,   192] loss: 0.426\n",
      "[5,   256] loss: 0.438\n",
      "continue to epoch,  4\n",
      "Finished Training\n"
     ]
    }
   ],
   "source": [
    "import copy\n",
    "\n",
    "model = NeuralNetwork()\n",
    "learning_rate = 0.1\n",
    "# optimizer = torch.optim.SGD(model.parameters(), lr=learning_rate)\n",
    "criterion = nn.CrossEntropyLoss()\n",
    "\n",
    "def train(model, dataloader):\n",
    "    # note: this is very simplified and won't work with every optimizer\n",
    "    optimizer = torch.optim.SGD(model.parameters(), lr=learning_rate)\n",
    "    running_loss = 0.0\n",
    "    for i, data in enumerate(dataloader, 0):\n",
    "        num_batches = len(dataloader)\n",
    "        # get the inputs; data is a list of [inputs, labels]\n",
    "        image, label = data\n",
    "        if image.shape[0] < 64:\n",
    "            continue\n",
    "\n",
    "        # zero the parameter gradients\n",
    "        optimizer.zero_grad()\n",
    "\n",
    "        # forward + backward + optimize\n",
    "        outputs = model(image)\n",
    "        loss = criterion(outputs, label)\n",
    "        loss.backward()\n",
    "        optimizer.step()\n",
    "\n",
    "        # print statistics\n",
    "        running_loss += loss.item()\n",
    "        if i % batch_size == batch_size-1:\n",
    "            #print(loss.item())\n",
    "            print('[%d, %5d] loss: %.3f' %\n",
    "                  (epoch + 1, i + 1, running_loss / batch_size))\n",
    "            running_loss = 0.0\n",
    "    return model\n",
    "\n",
    "\n",
    "def avg_weights(weight1, weight2, weight3):\n",
    "    \n",
    "    mean_weights = []\n",
    "    for w1, w2, w3 in zip(weight1, weight2, weight3):\n",
    "        next_weight = (w1 + w2 + w3) / 3\n",
    "        #next_weight = torch.mean(w1, w2, w3)\n",
    "        # loop through all the weights\n",
    "        #for i in range(1, len(weights)):\n",
    "        #    next_weight += weight\n",
    "        #next_weigth /= idx\n",
    "        mean_weights.append(next_weight)\n",
    "    return mean_weights\n",
    "    \n",
    "\n",
    "def get_weights(model):\n",
    "    return model.parameters()\n",
    "\n",
    "def set_weights(model, new_weights):\n",
    "    with torch.no_grad():\n",
    "        for param, new_param in zip(model.parameters(), new_weights):\n",
    "            param.data[:] = new_param.data\n",
    "    return model\n",
    "    \n",
    "n_epochs = 5\n",
    "for epoch in range(n_epochs):  # loop over the dataset multiple times\n",
    "    \n",
    "    # train on site1\n",
    "    # beta = 0.5 #The interpolation parameter\n",
    "    '''\n",
    "    params1 = model1.named_parameters()\n",
    "    params2 = model2.named_parameters()\n",
    "\n",
    "    dict_params2 = dict(params2)\n",
    "\n",
    "    for name1, param1 in params1:\n",
    "        if name1 in dict_params2:\n",
    "            dict_params2[name1].data.copy_(beta*param1.data + (1-beta)*dict_params2[name1].data)\n",
    "\n",
    "     model.load_state_dict(dict_params2)\n",
    "    ''' \n",
    "    \n",
    "    model1 = train(copy.deepcopy(model), site1_dataloader)\n",
    "    model2 = train(copy.deepcopy(model), site2_dataloader)\n",
    "    model3 = train(copy.deepcopy(model), site3_dataloader)\n",
    "\n",
    "    params_m1 = get_weights(model1)\n",
    "    params_m2 = get_weights(model2)\n",
    "    params_m3 = get_weights(model3)\n",
    "    \n",
    "    mean_weights = avg_weights(params_m1, params_m2, params_m3)\n",
    "    \n",
    "    model = set_weights(model, mean_weights)\n",
    "    print('continue to epoch, ', epoch)\n",
    "    \n",
    "print('Finished Training')"
   ]
  },
  {
   "cell_type": "code",
   "execution_count": 15,
   "id": "992dc391",
   "metadata": {},
   "outputs": [
    {
     "name": "stdout",
     "output_type": "stream",
     "text": [
      "accuracy is: 84.11\n",
      "loss is: 0.4432794171723591\n"
     ]
    }
   ],
   "source": [
    "# predict\n",
    "prediction = predict_model(model, test_dataloader)\n",
    "accuracy, loss = get_score(test_dataloader, prediction)\n",
    "\n",
    "print('accuracy is:', accuracy)\n",
    "print('loss is:', loss)"
   ]
  },
  {
   "cell_type": "markdown",
   "id": "6e886a03",
   "metadata": {},
   "source": [
    "## Security"
   ]
  },
  {
   "cell_type": "markdown",
   "id": "dfdc9b6c",
   "metadata": {},
   "source": [
    "## hacking federated learning\n",
    "If we just left the model as it is it would have been easy to hack on the model."
   ]
  },
  {
   "cell_type": "markdown",
   "id": "d9721ed8",
   "metadata": {},
   "source": [
    "Now we will use slightly different data for site1 and site2"
   ]
  },
  {
   "cell_type": "code",
   "execution_count": 16,
   "id": "00d4aec6",
   "metadata": {},
   "outputs": [
    {
     "name": "stdout",
     "output_type": "stream",
     "text": [
      "281 tensor([2, 2, 1, 1, 1, 1, 1, 0, 2, 2, 2, 1, 2, 0, 0, 2])\n"
     ]
    }
   ],
   "source": [
    "import torchvision as torchvision\n",
    "import torch.utils.data.sampler as sampler\n",
    "def get_indices(dataset, class_name):\n",
    "    indices =  []\n",
    "    for i in range(len(dataset.dataset.targets)):\n",
    "        if dataset.dataset.targets[i] in class_name:\n",
    "            indices.append(i)\n",
    "    return indices\n",
    "\n",
    "\n",
    "#dataset = torchvision.datasets.CIFAR10(root='./data',\n",
    "#                           transform=torchvision.transforms.ToTensor())\n",
    "\n",
    "idx = get_indices(site1, [0, 1, 2])\n",
    "site1_newloader = DataLoader(training_data, batch_size=64, sampler=sampler.SubsetRandomSampler(idx))\n",
    "\n",
    "# idx = get_indices(site2, [5, 6])\n",
    "# site2_newloader = DataLoader(site2, batch_size=64, sampler=sampler.SubsetRandomSampler(idx))\n",
    "\n",
    "for idx, (data, target) in enumerate(site1_newloader):\n",
    "    pass\n",
    "print(idx, target)\n",
    "# for idx, (data, target) in enumerate(site2_newloader):\n",
    "#    print(idx, target)"
   ]
  },
  {
   "cell_type": "code",
   "execution_count": 17,
   "id": "7f19c445",
   "metadata": {},
   "outputs": [
    {
     "name": "stdout",
     "output_type": "stream",
     "text": [
      "[5,    64] loss: 0.137\n",
      "[5,   128] loss: 0.119\n",
      "[5,   192] loss: 0.119\n",
      "[5,   256] loss: 0.099\n"
     ]
    }
   ],
   "source": [
    "model1 = train(copy.deepcopy(model), site1_newloader)\n"
   ]
  },
  {
   "cell_type": "code",
   "execution_count": null,
   "id": "0a6f9192",
   "metadata": {},
   "outputs": [],
   "source": []
  },
  {
   "cell_type": "code",
   "execution_count": 18,
   "id": "aa980b45",
   "metadata": {},
   "outputs": [
    {
     "name": "stdout",
     "output_type": "stream",
     "text": [
      "0 : t-shirt\n",
      "1 : Trouser\n",
      "2 : Pullover\n"
     ]
    }
   ],
   "source": [
    "#image, label = len(training_data)\n",
    "idx = 0\n",
    "\n",
    "*_, last_m1 = model1.parameters() # for a better understanding check PEP 448\n",
    "*_, last_m = model.parameters() \n",
    "# print(last)\n",
    "\n",
    "\n",
    "for idx, weight in enumerate(last_m1 - last_m):\n",
    "    # m = m1.data - m2.data\n",
    "    #if idx == 5:\n",
    "    #    print(m1, m2)\n",
    "    #    print(m)\n",
    "    if weight > 0:\n",
    "        print(idx, ':', classes[idx])\n",
    "    #if i > 3:\n",
    "    #    break\n",
    "    # print(v.detach().numpy().shape)\n",
    "    #plt.imshow(v.detach().numpy())\n",
    "    # to view predicted labels uncomment following lines:\n",
    "    # print('predicted:', pred.argmax(1))\n",
    "    # print('true:',label)\n",
    "    #if(v != 0):\n",
    "    #     print(vocab[i])\n",
    "    idx += 1"
   ]
  },
  {
   "cell_type": "markdown",
   "id": "e54da432",
   "metadata": {},
   "source": [
    "So in fact we don't want the \n",
    "\n",
    "Explain secure aggregation\n",
    "\n",
    "- adding noise (more secure but could harm performance)\n",
    "- so aggregate in a way that nobody can view the weights of others\n",
    "- so how could we do that? use homomorphic encryption\n",
    "\n"
   ]
  },
  {
   "cell_type": "markdown",
   "id": "c79b4834",
   "metadata": {},
   "source": [
    "## What is homomorphic encryption"
   ]
  },
  {
   "cell_type": "markdown",
   "id": "505f8d00",
   "metadata": {},
   "source": [
    "homomorphic encryption: gives possibility to perform some computations on encrypted values without decrypting them"
   ]
  },
  {
   "cell_type": "markdown",
   "id": "764ca4fe",
   "metadata": {},
   "source": [
    "First, a public key lets you encrypt numbers. A private key lets you decrypt\n",
    "encrypted numbers. An encrypted value is called a ciphertext, and an unencrypted value\n",
    "is called a plaintext. \n",
    "\n",
    "phe library? or something used in Substra?\n",
    "give some resources\n",
    "\n",
    "Now, let’s return to the problem of secure aggregation. Given your new knowledge that\n",
    "you can add together numbers you can’t see, the answer becomes plain. The person who\n",
    "initializes the model sends a public_key to Bob, Alice, and Sue so they can each encrypt\n",
    "their weight updates\n",
    "\n",
    "Then, Bob, Alice, and Sue (who don’t have the private key) talk directly\n",
    "to each other and accumulate all their gradients into a single, final update that’s sent back to\n",
    "the model owner, who decrypts it with the private_key.\n",
    "\n",
    "In substra: Encryption function using python's pre-installed packages HMAC and hashlib.\n",
    "    We are using SHA256 (it is equal in security to SHA512)\n",
    "    scaffold (??)"
   ]
  },
  {
   "cell_type": "code",
   "execution_count": 19,
   "id": "5c2e6dbb",
   "metadata": {},
   "outputs": [
    {
     "data": {
      "text/plain": [
       "'\\nmodel = Embedding(vocab_size=len(vocab), dim=1)\\nmodel.weight.data *= 0\\n\\n# note that in production the n_length should be at least 1024\\npublic_key, private_key = phe.generate_paillier_keypair(n_length=128)\\n\\ndef train_and_encrypt(model, input, target, pubkey):\\n    new_model = train(copy.deepcopy(model), input, target, iterations=1)\\n\\n    encrypted_weights = list()\\n    for val in new_model.weight.data[:,0]:\\n        encrypted_weights.append(public_key.encrypt(val))\\n    ew = np.array(encrypted_weights).reshape(new_model.weight.data.shape)\\n    \\n    return ew\\n'"
      ]
     },
     "execution_count": 19,
     "metadata": {},
     "output_type": "execute_result"
    }
   ],
   "source": [
    "'''\n",
    "model = Embedding(vocab_size=len(vocab), dim=1)\n",
    "model.weight.data *= 0\n",
    "\n",
    "# note that in production the n_length should be at least 1024\n",
    "public_key, private_key = phe.generate_paillier_keypair(n_length=128)\n",
    "\n",
    "def train_and_encrypt(model, input, target, pubkey):\n",
    "    new_model = train(copy.deepcopy(model), input, target, iterations=1)\n",
    "\n",
    "    encrypted_weights = list()\n",
    "    for val in new_model.weight.data[:,0]:\n",
    "        encrypted_weights.append(public_key.encrypt(val))\n",
    "    ew = np.array(encrypted_weights).reshape(new_model.weight.data.shape)\n",
    "    \n",
    "    return ew\n",
    "'''"
   ]
  },
  {
   "cell_type": "code",
   "execution_count": 20,
   "id": "6ff8a677",
   "metadata": {},
   "outputs": [
    {
     "data": {
      "text/plain": [
       "'\\n# enable encrypting\\n\\nimport syft.frameworks.tenseal as ts\\n\\n# hook PyTorch to add extra functionalities like the ability to encrypt torch tensors\\nhook = sy.TorchHook(th)\\n'"
      ]
     },
     "execution_count": 20,
     "metadata": {},
     "output_type": "execute_result"
    }
   ],
   "source": [
    "'''\n",
    "# enable encrypting\n",
    "\n",
    "import syft.frameworks.tenseal as ts\n",
    "\n",
    "# hook PyTorch to add extra functionalities like the ability to encrypt torch tensors\n",
    "hook = sy.TorchHook(th)\n",
    "'''"
   ]
  },
  {
   "cell_type": "code",
   "execution_count": 21,
   "id": "b5f4a70a",
   "metadata": {},
   "outputs": [
    {
     "ename": "ModuleNotFoundError",
     "evalue": "No module named 'phe'",
     "output_type": "error",
     "traceback": [
      "\u001b[0;31m---------------------------------------------------------------------------\u001b[0m",
      "\u001b[0;31mModuleNotFoundError\u001b[0m                       Traceback (most recent call last)",
      "\u001b[0;32m/var/folders/m4/pscnc70n11zckwm64q2hnd6w0000gn/T/ipykernel_38332/1816878759.py\u001b[0m in \u001b[0;36m<module>\u001b[0;34m\u001b[0m\n\u001b[0;32m----> 1\u001b[0;31m \u001b[0;32mimport\u001b[0m \u001b[0mphe\u001b[0m\u001b[0;34m\u001b[0m\u001b[0;34m\u001b[0m\u001b[0m\n\u001b[0m\u001b[1;32m      2\u001b[0m \u001b[0;34m\u001b[0m\u001b[0m\n\u001b[1;32m      3\u001b[0m \u001b[0;32mimport\u001b[0m \u001b[0msyft\u001b[0m \u001b[0;32mas\u001b[0m \u001b[0msy\u001b[0m\u001b[0;34m\u001b[0m\u001b[0;34m\u001b[0m\u001b[0m\n\u001b[1;32m      4\u001b[0m \u001b[0;34m\u001b[0m\u001b[0m\n\u001b[1;32m      5\u001b[0m \u001b[0;31m# hook PyTorch to add extra functionalities like the ability to encrypt torch tensors\u001b[0m\u001b[0;34m\u001b[0m\u001b[0;34m\u001b[0m\u001b[0;34m\u001b[0m\u001b[0m\n",
      "\u001b[0;31mModuleNotFoundError\u001b[0m: No module named 'phe'"
     ]
    }
   ],
   "source": [
    "import phe\n",
    "\n",
    "import syft as sy\n",
    "\n",
    "# hook PyTorch to add extra functionalities like the ability to encrypt torch tensors\n",
    "hook = sy.TorchHook(torch)\n",
    "\n",
    "model = NeuralNetwork()\n",
    "learning_rate = 0.1\n",
    "criterion = nn.CrossEntropyLoss()\n",
    "\n",
    "# this should be more secure for production\n",
    "public_key, private_key = phe.generate_paillier_keypair(n_length=128)\n",
    "\n",
    "def train_and_encrypt(model, dataloader, public_key):\n",
    "    # note: this is very simplified and won't work with every optimizer\n",
    "    \n",
    "    new_model = train(copy.deepcopy(model), dataloader)\n",
    "    \n",
    "    encrypted_layers = list()\n",
    "    for val in new_model.parameters():\n",
    "        encrypted_weights = list()\n",
    "        # matrix_encrypted = val.data.encrypt(\"ckks\", public_key=public_keys)\n",
    "        # data = val.data[:,0]\n",
    "        # print(val.data[:,0])\n",
    "        # print('vs', val.data)\n",
    "        for num in val:\n",
    "            print(num)\n",
    "            encrypted_weights.append(public_key.encrypt(num))\n",
    "        enc_weights = np.array(encrypted_layers).reshape(new_model.weight.data.shape)\n",
    "        encrypted_layers.append(encrypted_weights)\n",
    "    \n",
    "    return enc_weights\n",
    "\n",
    "\n",
    "def avg_weights(weight1, weight2, weight3):\n",
    "    \n",
    "    mean_weights = []\n",
    "    weight1 + weight2 + weight3\n",
    "    for w1, w2, w3 in zip(weight1, weight2, weight3):\n",
    "        next_weight = (w1 + w2 + w3) / 3\n",
    "        mean_weights.append(next_weight)\n",
    "    return mean_weights\n",
    "    \n",
    "\n",
    "def get_weights(model):\n",
    "    return model.parameters()\n",
    "\n",
    "def set_weights(model, new_weights):\n",
    "    with torch.no_grad():\n",
    "        for param, new_param in zip(model.parameters(), new_weights):\n",
    "            param.data[:] = new_param.data\n",
    "    return model\n",
    "    \n",
    "n_epochs = 5\n",
    "for epoch in range(n_epochs):  # loop over the dataset multiple times\n",
    "    \n",
    "    w1 = train_and_encrypt(copy.deepcopy(model), site1_dataloader, public_key)\n",
    "    w2 = train_and_encrypt(copy.deepcopy(model), site2_dataloader, public_key)\n",
    "    w3 = train_and_encrypt(copy.deepcopy(model), site3_dataloader, public_key)\n",
    "\n",
    "    \n",
    "    mean_weights = avg_weights(w1, w2, w3)\n",
    "    \n",
    "    model = set_weights(model, mean_weights)\n",
    "    print('continue to epoch, ', epoch)\n",
    "    \n",
    "print('Finished Training')"
   ]
  },
  {
   "cell_type": "markdown",
   "id": "3d11f486",
   "metadata": {},
   "source": [
    "other concepts:  federated learning,\n",
    "homomorphic encryption, differential privacy, and secure multi-party computation are all\n",
    "built in "
   ]
  },
  {
   "cell_type": "markdown",
   "id": "ee61d56d",
   "metadata": {},
   "source": [
    "Two words about Substra and Connect"
   ]
  },
  {
   "cell_type": "markdown",
   "id": "6db378c7",
   "metadata": {},
   "source": [
    "different strategies"
   ]
  },
  {
   "cell_type": "markdown",
   "id": "f2886b5e",
   "metadata": {},
   "source": [
    "two words about Connectlib"
   ]
  },
  {
   "cell_type": "markdown",
   "id": "f3aafc7a",
   "metadata": {},
   "source": [
    "## Resources <a class=\"anchor\" id=\"resources\"></a>\n",
    "\n",
    "**This work is based and inspired by existing resources:**\n",
    "1. [`phe` Federated Learning example](https://github.com/data61/python-paillier/blob/master/examples/federated_learning_with_encryption.py)\n",
    "1. (book, check out chapter on FL): Trask, A. W. (2019). Grokking deep learning. Simon and Schuster\n",
    "\n",
    "\n",
    "**If you want to learn more on FL you can also refer to:**\n",
    "1. 1st article on FL:\n",
    "    [H. Brendan McMahan and Eider Moore and Daniel Ramage and Seth Hampson and Blaise Agüera y Arcas (2017) Communication-Efficient Learning of Deep Networks from Decentralized Data, arXiv1602.05629](https://arxiv.org/abs/1602.05629)\n",
    "1. [Google blogpost on FL](https://ai.googleblog.com/2017/04/federated-learning-collaborative.html)\n",
    "1. Old good [Wikipedia](https://en.wikipedia.org/wiki/Federated_learning)\n"
   ]
  },
  {
   "cell_type": "code",
   "execution_count": null,
   "id": "542c4c74",
   "metadata": {},
   "outputs": [],
   "source": []
  }
 ],
 "metadata": {
  "kernelspec": {
   "display_name": "Python 3 (ipykernel)",
   "language": "python",
   "name": "python3"
  },
  "language_info": {
   "codemirror_mode": {
    "name": "ipython",
    "version": 3
   },
   "file_extension": ".py",
   "mimetype": "text/x-python",
   "name": "python",
   "nbconvert_exporter": "python",
   "pygments_lexer": "ipython3",
   "version": "3.7.11"
  }
 },
 "nbformat": 4,
 "nbformat_minor": 5
}
