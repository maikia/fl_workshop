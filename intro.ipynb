{
 "cells": [
  {
   "cell_type": "markdown",
   "id": "4f0064b1-3275-4f7e-a25a-260b2dafbdaf",
   "metadata": {},
   "source": [
    "### Intro to Federated Learning"
   ]
  },
  {
   "cell_type": "code",
   "execution_count": 1,
   "id": "1400b1d7-b517-4cba-83e2-510c184db061",
   "metadata": {},
   "outputs": [
    {
     "ename": "SyntaxError",
     "evalue": "invalid syntax (2055703241.py, line 1)",
     "output_type": "error",
     "traceback": [
      "\u001b[0;36m  File \u001b[0;32m\"/var/folders/m4/pscnc70n11zckwm64q2hnd6w0000gn/T/ipykernel_17096/2055703241.py\"\u001b[0;36m, line \u001b[0;32m1\u001b[0m\n\u001b[0;31m    -  types of the data\u001b[0m\n\u001b[0m              ^\u001b[0m\n\u001b[0;31mSyntaxError\u001b[0m\u001b[0;31m:\u001b[0m invalid syntax\n"
     ]
    }
   ],
   "source": [
    "-  types of the data\n",
    "- what can we do with the data, why it's so important\n",
    "- machine learning solutions.. classical vs deep learning \n",
    "- "
   ]
  },
  {
   "cell_type": "code",
   "execution_count": null,
   "id": "2a9b123e-1c5d-4e01-871d-a0cc80b4bbc4",
   "metadata": {},
   "outputs": [],
   "source": []
  }
 ],
 "metadata": {
  "kernelspec": {
   "display_name": "Python 3 (ipykernel)",
   "language": "python",
   "name": "python3"
  },
  "language_info": {
   "codemirror_mode": {
    "name": "ipython",
    "version": 3
   },
   "file_extension": ".py",
   "mimetype": "text/x-python",
   "name": "python",
   "nbconvert_exporter": "python",
   "pygments_lexer": "ipython3",
   "version": "3.7.11"
  }
 },
 "nbformat": 4,
 "nbformat_minor": 5
}
