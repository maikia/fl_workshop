{
 "cells": [
  {
   "cell_type": "markdown",
   "id": "759ec09a",
   "metadata": {},
   "source": [
    "## Getting Started <a class=\"anchor\" id=\"get-started\"></a>\n",
    "\n",
    "1. Previous experience with `Python` is required. Understanding general machine learning concepts is advisable\n",
    "1. We will be using `Jupyter` (`jupyter notebook` or `jupyter lab` will work just fine). For a quick intro refer to: [Introduction to Jupyter](jupyter_intro.ipynb)\n",
    "\n",
    "1. You will also need to have installed few additional libraries: `scikit-learn`, `phe`, `numpy` and `matplotlib`.\n",
    "    If you don't have them already installed you can do so (using `pip`) by executing the line below:"
   ]
  },
  {
   "cell_type": "code",
   "execution_count": 2,
   "id": "2b9a78c7",
   "metadata": {},
   "outputs": [
    {
     "name": "stdout",
     "output_type": "stream",
     "text": [
      "Requirement already satisfied: numpy in /Users/owkin/miniconda3/envs/temp-fl/lib/python3.7/site-packages (1.21.2)\n",
      "Requirement already satisfied: matplotlib in /Users/owkin/miniconda3/envs/temp-fl/lib/python3.7/site-packages (3.4.3)\n",
      "Requirement already satisfied: phe in /Users/owkin/miniconda3/envs/temp-fl/lib/python3.7/site-packages (1.4.0)\n",
      "Requirement already satisfied: sklearn in /Users/owkin/miniconda3/envs/temp-fl/lib/python3.7/site-packages (0.0)\n",
      "Requirement already satisfied: pyparsing>=2.2.1 in /Users/owkin/miniconda3/envs/temp-fl/lib/python3.7/site-packages (from matplotlib) (2.4.7)\n",
      "Requirement already satisfied: kiwisolver>=1.0.1 in /Users/owkin/miniconda3/envs/temp-fl/lib/python3.7/site-packages (from matplotlib) (1.3.2)\n",
      "Requirement already satisfied: python-dateutil>=2.7 in /Users/owkin/miniconda3/envs/temp-fl/lib/python3.7/site-packages (from matplotlib) (2.8.2)\n",
      "Requirement already satisfied: pillow>=6.2.0 in /Users/owkin/miniconda3/envs/temp-fl/lib/python3.7/site-packages (from matplotlib) (8.3.2)\n",
      "Requirement already satisfied: cycler>=0.10 in /Users/owkin/miniconda3/envs/temp-fl/lib/python3.7/site-packages (from matplotlib) (0.10.0)\n",
      "Requirement already satisfied: six in /Users/owkin/miniconda3/envs/temp-fl/lib/python3.7/site-packages (from cycler>=0.10->matplotlib) (1.16.0)\n",
      "Requirement already satisfied: scikit-learn in /Users/owkin/miniconda3/envs/temp-fl/lib/python3.7/site-packages (from sklearn) (0.24.2)\n",
      "Requirement already satisfied: threadpoolctl>=2.0.0 in /Users/owkin/miniconda3/envs/temp-fl/lib/python3.7/site-packages (from scikit-learn->sklearn) (2.2.0)\n",
      "Requirement already satisfied: scipy>=0.19.1 in /Users/owkin/miniconda3/envs/temp-fl/lib/python3.7/site-packages (from scikit-learn->sklearn) (1.7.1)\n",
      "Requirement already satisfied: joblib>=0.11 in /Users/owkin/miniconda3/envs/temp-fl/lib/python3.7/site-packages (from scikit-learn->sklearn) (1.0.1)\n"
     ]
    }
   ],
   "source": [
    "# install\n",
    "import sys\n",
    "!{sys.executable} -m pip install numpy matplotlib phe sklearn"
   ]
  },
  {
   "cell_type": "code",
   "execution_count": 3,
   "id": "3ab44501",
   "metadata": {},
   "outputs": [],
   "source": [
    "# import libraries\n",
    "import matplotlib.pylab as plt\n",
    "import numpy as np\n",
    "from sklearn.datasets import load_diabetes\n",
    "from sklearn.metrics import mean_squared_error\n",
    "\n",
    "import phe as paillier\n",
    "\n",
    "seed = 42\n",
    "np.random.seed(seed)\n",
    "\n",
    "%matplotlib inline"
   ]
  },
  {
   "cell_type": "markdown",
   "id": "5a42ae02",
   "metadata": {},
   "source": [
    "### Understand the data"
   ]
  },
  {
   "cell_type": "code",
   "execution_count": 5,
   "id": "ac3132ef",
   "metadata": {},
   "outputs": [
    {
     "name": "stdout",
     "output_type": "stream",
     "text": [
      "Data consists of 442 diabetes patients\n",
      "and 10 baseline variables:\n",
      "age, sex, body mass index, average blood pressure, and six blood serum measurements\n"
     ]
    }
   ],
   "source": [
    "diabetes = load_diabetes()\n",
    "y = diabetes.target\n",
    "X = diabetes.data\n",
    "\n",
    "print(f'Data consists of {len(X)} diabetes patients')\n",
    "print(f'and {X.shape[1]} baseline variables:')\n",
    "print('age, sex, body mass index, average blood pressure, and six blood serum measurements')"
   ]
  },
  {
   "cell_type": "markdown",
   "id": "e7fd3bde",
   "metadata": {},
   "source": [
    "Target column is a quantitative measure of disease progression one year after baseline"
   ]
  },
  {
   "cell_type": "code",
   "execution_count": 7,
   "id": "90350a5c",
   "metadata": {},
   "outputs": [
    {
     "data": {
      "image/png": "[encoded data removed]",
      "text/plain": [
       "<Figure size 432x288 with 1 Axes>"
      ]
     },
     "metadata": {
      "needs_background": "light"
     },
     "output_type": "display_data"
    }
   ],
   "source": [
    "def plot_target(ax, y):\n",
    "    y_sorted = np.argsort(y)\n",
    "\n",
    "    ax.set_title('sorted target')\n",
    "    ax.plot(y[y_sorted])\n",
    "    ax.set_ylabel('disease progression')\n",
    "    ax.set_xlabel('patient [n]')\n",
    "\n",
    "    # Hide the right and top spines\n",
    "    ax.spines['right'].set_visible(False)\n",
    "    ax.spines['top'].set_visible(False)\n",
    "ax = plt.subplot(111)\n",
    "plot_target(ax, y)"
   ]
  },
  {
   "cell_type": "code",
   "execution_count": 8,
   "id": "484dd77d",
   "metadata": {},
   "outputs": [],
   "source": [
    "# split to test and train datasets\n",
    "\n",
    "test_size = 50\n",
    "test_idx = np.random.choice(X.shape[0], size=test_size, replace=False)\n",
    "train_idx = np.ones(X.shape[0], dtype=bool)\n",
    "train_idx[test_idx] = False\n",
    "X_test, y_test = X[test_idx, :], y[test_idx]\n",
    "X_train, y_train = X[train_idx, :], y[train_idx]"
   ]
  },
  {
   "cell_type": "markdown",
   "id": "c37c6078",
   "metadata": {},
   "source": [
    "### train the model"
   ]
  },
  {
   "cell_type": "code",
   "execution_count": 9,
   "id": "7cc865d3",
   "metadata": {},
   "outputs": [],
   "source": [
    "class Client:\n",
    "    \"\"\"\n",
    "    Client using linear regression to fit the data\n",
    "    \"\"\"\n",
    "    def __init__(self, name):\n",
    "        self.name = name\n",
    "        self.weights = np.zeros(X.shape[1])\n",
    "    \n",
    "    def fit(self, X, y, n_iter, eta=0.01):\n",
    "        \"\"\"Linear regression for n_iter\"\"\"\n",
    "        for _ in range(n_iter):\n",
    "            gradient = self.compute_gradient(X, y)\n",
    "            self.gradient_step(gradient, eta)\n",
    "    \n",
    "    def compute_gradient(self, X, y):\n",
    "        \"\"\"Compute the gradient of the current model using the training set\n",
    "        \"\"\"\n",
    "        delta = self.predict(X) - y\n",
    "        return delta.dot(X) / len(X)\n",
    "\n",
    "    def gradient_step(self, gradient, eta=0.01):\n",
    "        \"\"\"Update the model with the given gradient\"\"\"\n",
    "        self.weights -= eta * gradient\n",
    "\n",
    "    def predict(self, X):\n",
    "        \"\"\"Score test data\"\"\"\n",
    "        return X.dot(self.weights)\n",
    "\n",
    "n_iter = 50\n",
    "c = Client(name=\"Hospital\")\n",
    "c.fit(X_train, y_train, n_iter=n_iter, eta=1.5)\n",
    "y_pred = c.predict(X_test)"
   ]
  },
  {
   "cell_type": "code",
   "execution_count": 10,
   "id": "9988e79e",
   "metadata": {},
   "outputs": [
    {
     "name": "stdout",
     "output_type": "stream",
     "text": [
      "Hospital:\t27568.95\n"
     ]
    }
   ],
   "source": [
    "mse = mean_squared_error(y_pred, y_test)\n",
    "print('{:s}:\\t{:.2f}'.format(c.name, mse))"
   ]
  },
  {
   "cell_type": "markdown",
   "id": "3dc4db01",
   "metadata": {},
   "source": [
    "## split the data between clients\n",
    "\n",
    "Now we are ready to start adding bits and pieces to create the federated learning.\n",
    "\n",
    "First, we will split the data to multiple locations. Let's imagine hospitals:"
   ]
  },
  {
   "cell_type": "code",
   "execution_count": 11,
   "id": "f6b00beb",
   "metadata": {},
   "outputs": [],
   "source": [
    "# note: this and most of the following functions are reused from phe example cited above\n",
    "def get_data(n_clients):\n",
    "    \"\"\"\n",
    "    Import the dataset via sklearn, shuffle and split train/test.\n",
    "    Return training, target lists for `n_clients` and a holdout test set\n",
    "    \"\"\"\n",
    "    print(\"Loading data\")\n",
    "    diabetes = load_diabetes()\n",
    "    y = diabetes.target\n",
    "    X = diabetes.data\n",
    "    # Add bias\n",
    "    X = np.c_[X, np.ones(X.shape[0])]\n",
    "\n",
    "    # The features are already preprocessed\n",
    "    # Shuffle\n",
    "    perm = np.random.permutation(X.shape[0])\n",
    "    X, y = X[perm, :], y[perm]\n",
    "\n",
    "    # Select test at random\n",
    "    test_size = 50\n",
    "    test_idx = np.random.choice(X.shape[0], size=test_size, replace=False)\n",
    "    train_idx = np.ones(X.shape[0], dtype=bool)\n",
    "    train_idx[test_idx] = False\n",
    "    X_test, y_test = X[test_idx, :], y[test_idx]\n",
    "    X_train, y_train = X[train_idx, :], y[train_idx]\n",
    "\n",
    "    # Split train among multiple clients.\n",
    "    # The selection is not at random. We simulate the fact that each client\n",
    "    # sees a potentially very different sample of patients.\n",
    "    X, y = [], []\n",
    "    step = int(X_train.shape[0] / n_clients)\n",
    "    for c in range(n_clients):\n",
    "        X.append(X_train[step * c: step * (c + 1), :])\n",
    "        y.append(y_train[step * c: step * (c + 1)])\n",
    "\n",
    "    return X, y, X_test, y_test"
   ]
  },
  {
   "cell_type": "code",
   "execution_count": 12,
   "id": "851d4dc3",
   "metadata": {},
   "outputs": [
    {
     "name": "stdout",
     "output_type": "stream",
     "text": [
      "Loading data\n"
     ]
    }
   ],
   "source": [
    "# load data, train/test split and split training data between clients\n",
    "n_clients = 3\n",
    "Xs_train, ys_train, X_test, y_test = get_data(n_clients=n_clients)"
   ]
  },
  {
   "cell_type": "markdown",
   "id": "a5695eb7",
   "metadata": {},
   "source": [
    "### store data at the client\n",
    "\n",
    "Excercise: update the `Client` so that the data is stored in the class. "
   ]
  },
  {
   "cell_type": "code",
   "execution_count": null,
   "id": "2bb39c4b",
   "metadata": {},
   "outputs": [],
   "source": []
  },
  {
   "cell_type": "code",
   "execution_count": 13,
   "id": "922bba1a",
   "metadata": {},
   "outputs": [
    {
     "ename": "TypeError",
     "evalue": "__init__() got an unexpected keyword argument 'X'",
     "output_type": "error",
     "traceback": [
      "\u001b[0;31m---------------------------------------------------------------------------\u001b[0m",
      "\u001b[0;31mTypeError\u001b[0m                                 Traceback (most recent call last)",
      "\u001b[0;32m/var/folders/m4/pscnc70n11zckwm64q2hnd6w0000gn/T/ipykernel_41999/4208367179.py\u001b[0m in \u001b[0;36m<module>\u001b[0;34m\u001b[0m\n\u001b[1;32m      3\u001b[0m \u001b[0;34m\u001b[0m\u001b[0m\n\u001b[1;32m      4\u001b[0m \u001b[0;32mfor\u001b[0m \u001b[0mi\u001b[0m \u001b[0;32min\u001b[0m \u001b[0mrange\u001b[0m\u001b[0;34m(\u001b[0m\u001b[0mn_clients\u001b[0m\u001b[0;34m)\u001b[0m\u001b[0;34m:\u001b[0m\u001b[0;34m\u001b[0m\u001b[0;34m\u001b[0m\u001b[0m\n\u001b[0;32m----> 5\u001b[0;31m     \u001b[0mc\u001b[0m \u001b[0;34m=\u001b[0m \u001b[0mClient\u001b[0m\u001b[0;34m(\u001b[0m\u001b[0mname\u001b[0m\u001b[0;34m=\u001b[0m\u001b[0;34m\"Hospital\"\u001b[0m \u001b[0;34m+\u001b[0m \u001b[0mstr\u001b[0m\u001b[0;34m(\u001b[0m\u001b[0mi\u001b[0m\u001b[0;34m)\u001b[0m\u001b[0;34m,\u001b[0m \u001b[0mX\u001b[0m\u001b[0;34m=\u001b[0m\u001b[0mXs_train\u001b[0m\u001b[0;34m[\u001b[0m\u001b[0mi\u001b[0m\u001b[0;34m]\u001b[0m\u001b[0;34m,\u001b[0m \u001b[0my\u001b[0m\u001b[0;34m=\u001b[0m\u001b[0mys_train\u001b[0m\u001b[0;34m[\u001b[0m\u001b[0mi\u001b[0m\u001b[0;34m]\u001b[0m\u001b[0;34m)\u001b[0m\u001b[0;34m\u001b[0m\u001b[0;34m\u001b[0m\u001b[0m\n\u001b[0m\u001b[1;32m      6\u001b[0m     \u001b[0mc\u001b[0m\u001b[0;34m.\u001b[0m\u001b[0mfit\u001b[0m\u001b[0;34m(\u001b[0m\u001b[0mn_iter\u001b[0m\u001b[0;34m=\u001b[0m\u001b[0mn_iter\u001b[0m\u001b[0;34m,\u001b[0m \u001b[0meta\u001b[0m\u001b[0;34m=\u001b[0m\u001b[0;36m1.5\u001b[0m\u001b[0;34m)\u001b[0m\u001b[0;34m\u001b[0m\u001b[0;34m\u001b[0m\u001b[0m\n\u001b[1;32m      7\u001b[0m     \u001b[0my_pred\u001b[0m \u001b[0;34m=\u001b[0m \u001b[0mc\u001b[0m\u001b[0;34m.\u001b[0m\u001b[0mpredict\u001b[0m\u001b[0;34m(\u001b[0m\u001b[0mX_test\u001b[0m\u001b[0;34m)\u001b[0m\u001b[0;34m\u001b[0m\u001b[0;34m\u001b[0m\u001b[0m\n",
      "\u001b[0;31mTypeError\u001b[0m: __init__() got an unexpected keyword argument 'X'"
     ]
    }
   ],
   "source": [
    "# instantiate, train, score the clients\n",
    "n_iter = 50\n",
    "\n",
    "for i in range(n_clients):\n",
    "    c = Client(name=\"Hospital\" + str(i), X=Xs_train[i], y=ys_train[i])\n",
    "    c.fit(n_iter=n_iter, eta=1.5)\n",
    "    y_pred = c.predict(X_test)\n",
    "    mse = mean_squared_error(y_pred, y_test)\n",
    "    print('{:s}:\\t{:.2f}'.format(c.name, mse))"
   ]
  },
  {
   "cell_type": "code",
   "execution_count": 14,
   "id": "bb85825d",
   "metadata": {},
   "outputs": [
    {
     "name": "stdout",
     "output_type": "stream",
     "text": [
      "Loading data\n"
     ]
    },
    {
     "ename": "TypeError",
     "evalue": "__init__() got an unexpected keyword argument 'X'",
     "output_type": "error",
     "traceback": [
      "\u001b[0;31m---------------------------------------------------------------------------\u001b[0m",
      "\u001b[0;31mTypeError\u001b[0m                                 Traceback (most recent call last)",
      "\u001b[0;32m/var/folders/m4/pscnc70n11zckwm64q2hnd6w0000gn/T/ipykernel_41999/2138490169.py\u001b[0m in \u001b[0;36m<module>\u001b[0;34m\u001b[0m\n\u001b[1;32m     13\u001b[0m \u001b[0mn_clients\u001b[0m \u001b[0;34m=\u001b[0m \u001b[0;36m3\u001b[0m\u001b[0;34m\u001b[0m\u001b[0;34m\u001b[0m\u001b[0m\n\u001b[1;32m     14\u001b[0m \u001b[0mn_iter\u001b[0m \u001b[0;34m=\u001b[0m \u001b[0;36m50\u001b[0m\u001b[0;34m\u001b[0m\u001b[0;34m\u001b[0m\u001b[0m\n\u001b[0;32m---> 15\u001b[0;31m \u001b[0mlocal_learning\u001b[0m\u001b[0;34m(\u001b[0m\u001b[0mn_clients\u001b[0m\u001b[0;34m,\u001b[0m \u001b[0mn_iter\u001b[0m\u001b[0;34m)\u001b[0m\u001b[0;34m\u001b[0m\u001b[0;34m\u001b[0m\u001b[0m\n\u001b[0m",
      "\u001b[0;32m/var/folders/m4/pscnc70n11zckwm64q2hnd6w0000gn/T/ipykernel_41999/2138490169.py\u001b[0m in \u001b[0;36mlocal_learning\u001b[0;34m(n_clients, n_iter, eta)\u001b[0m\n\u001b[1;32m      5\u001b[0m     \u001b[0;31m# create n_clients\u001b[0m\u001b[0;34m\u001b[0m\u001b[0;34m\u001b[0m\u001b[0;34m\u001b[0m\u001b[0m\n\u001b[1;32m      6\u001b[0m     \u001b[0;32mfor\u001b[0m \u001b[0mi\u001b[0m \u001b[0;32min\u001b[0m \u001b[0mrange\u001b[0m\u001b[0;34m(\u001b[0m\u001b[0mn_clients\u001b[0m\u001b[0;34m)\u001b[0m\u001b[0;34m:\u001b[0m\u001b[0;34m\u001b[0m\u001b[0;34m\u001b[0m\u001b[0m\n\u001b[0;32m----> 7\u001b[0;31m         \u001b[0mc\u001b[0m \u001b[0;34m=\u001b[0m \u001b[0mClient\u001b[0m\u001b[0;34m(\u001b[0m\u001b[0mname\u001b[0m\u001b[0;34m=\u001b[0m\u001b[0;34m\"Hospital\"\u001b[0m \u001b[0;34m+\u001b[0m \u001b[0mstr\u001b[0m\u001b[0;34m(\u001b[0m\u001b[0mi\u001b[0m\u001b[0;34m)\u001b[0m\u001b[0;34m,\u001b[0m \u001b[0mX\u001b[0m\u001b[0;34m=\u001b[0m\u001b[0mXs_train\u001b[0m\u001b[0;34m[\u001b[0m\u001b[0mi\u001b[0m\u001b[0;34m]\u001b[0m\u001b[0;34m,\u001b[0m \u001b[0my\u001b[0m\u001b[0;34m=\u001b[0m\u001b[0mys_train\u001b[0m\u001b[0;34m[\u001b[0m\u001b[0mi\u001b[0m\u001b[0;34m]\u001b[0m\u001b[0;34m)\u001b[0m\u001b[0;34m\u001b[0m\u001b[0;34m\u001b[0m\u001b[0m\n\u001b[0m\u001b[1;32m      8\u001b[0m         \u001b[0mc\u001b[0m\u001b[0;34m.\u001b[0m\u001b[0mfit\u001b[0m\u001b[0;34m(\u001b[0m\u001b[0mn_iter\u001b[0m\u001b[0;34m=\u001b[0m\u001b[0mn_iter\u001b[0m\u001b[0;34m,\u001b[0m \u001b[0meta\u001b[0m\u001b[0;34m=\u001b[0m\u001b[0meta\u001b[0m\u001b[0;34m)\u001b[0m\u001b[0;34m\u001b[0m\u001b[0;34m\u001b[0m\u001b[0m\n\u001b[1;32m      9\u001b[0m         \u001b[0my_pred\u001b[0m \u001b[0;34m=\u001b[0m \u001b[0mc\u001b[0m\u001b[0;34m.\u001b[0m\u001b[0mpredict\u001b[0m\u001b[0;34m(\u001b[0m\u001b[0mX_test\u001b[0m\u001b[0;34m)\u001b[0m\u001b[0;34m\u001b[0m\u001b[0;34m\u001b[0m\u001b[0m\n",
      "\u001b[0;31mTypeError\u001b[0m: __init__() got an unexpected keyword argument 'X'"
     ]
    }
   ],
   "source": [
    "def local_learning(n_clients, n_iter=50, eta=1.5):\n",
    "    # divide the data between n_clients\n",
    "    Xs_train, ys_train, X_test, y_test = get_data(n_clients=n_clients)\n",
    "\n",
    "    # create n_clients \n",
    "    for i in range(n_clients):\n",
    "        c = Client(name=\"Hospital\" + str(i), X=Xs_train[i], y=ys_train[i])\n",
    "        c.fit(n_iter=n_iter, eta=eta)\n",
    "        y_pred = c.predict(X_test)\n",
    "        mse = mean_squared_error(y_pred, y_test)\n",
    "        print('{:s}:\\t{:.2f}'.format(c.name, mse))\n",
    "\n",
    "n_clients = 3\n",
    "n_iter = 50\n",
    "local_learning(n_clients, n_iter)"
   ]
  },
  {
   "cell_type": "markdown",
   "id": "76b2ce2f",
   "metadata": {},
   "source": [
    "### aggregate gradients"
   ]
  },
  {
   "cell_type": "markdown",
   "id": "d328ef01",
   "metadata": {},
   "source": [
    "Excercise: define `federated_learning` function which at each round will receive the calculated gradients from each `Client`, average them together and then pass them back for further training."
   ]
  },
  {
   "cell_type": "code",
   "execution_count": 16,
   "id": "350d5ca8",
   "metadata": {},
   "outputs": [
    {
     "name": "stdout",
     "output_type": "stream",
     "text": [
      "Loading data\n",
      "Error (MSE) that each client gets after running the protocol:\n"
     ]
    },
    {
     "ename": "NameError",
     "evalue": "name 'clients' is not defined",
     "output_type": "error",
     "traceback": [
      "\u001b[0;31m---------------------------------------------------------------------------\u001b[0m",
      "\u001b[0;31mNameError\u001b[0m                                 Traceback (most recent call last)",
      "\u001b[0;32m/var/folders/m4/pscnc70n11zckwm64q2hnd6w0000gn/T/ipykernel_41999/3317441935.py\u001b[0m in \u001b[0;36m<module>\u001b[0;34m\u001b[0m\n\u001b[1;32m     16\u001b[0m         \u001b[0mprint\u001b[0m\u001b[0;34m(\u001b[0m\u001b[0;34m'{:s}:\\t{:.2f}'\u001b[0m\u001b[0;34m.\u001b[0m\u001b[0mformat\u001b[0m\u001b[0;34m(\u001b[0m\u001b[0mc\u001b[0m\u001b[0;34m.\u001b[0m\u001b[0mname\u001b[0m\u001b[0;34m,\u001b[0m \u001b[0mmse\u001b[0m\u001b[0;34m)\u001b[0m\u001b[0;34m)\u001b[0m\u001b[0;34m\u001b[0m\u001b[0;34m\u001b[0m\u001b[0m\n\u001b[1;32m     17\u001b[0m \u001b[0;34m\u001b[0m\u001b[0m\n\u001b[0;32m---> 18\u001b[0;31m \u001b[0mfederated_learning\u001b[0m\u001b[0;34m(\u001b[0m\u001b[0mn_clients\u001b[0m\u001b[0;34m,\u001b[0m \u001b[0mn_iter\u001b[0m\u001b[0;34m)\u001b[0m\u001b[0;34m\u001b[0m\u001b[0;34m\u001b[0m\u001b[0m\n\u001b[0m",
      "\u001b[0;32m/var/folders/m4/pscnc70n11zckwm64q2hnd6w0000gn/T/ipykernel_41999/3317441935.py\u001b[0m in \u001b[0;36mfederated_learning\u001b[0;34m(n_clients, n_iter, eta)\u001b[0m\n\u001b[1;32m     11\u001b[0m \u001b[0;34m\u001b[0m\u001b[0m\n\u001b[1;32m     12\u001b[0m     \u001b[0mprint\u001b[0m\u001b[0;34m(\u001b[0m\u001b[0;34m'Error (MSE) that each client gets after running the protocol:'\u001b[0m\u001b[0;34m)\u001b[0m\u001b[0;34m\u001b[0m\u001b[0;34m\u001b[0m\u001b[0m\n\u001b[0;32m---> 13\u001b[0;31m     \u001b[0;32mfor\u001b[0m \u001b[0mc\u001b[0m \u001b[0;32min\u001b[0m \u001b[0mclients\u001b[0m\u001b[0;34m:\u001b[0m\u001b[0;34m\u001b[0m\u001b[0;34m\u001b[0m\u001b[0m\n\u001b[0m\u001b[1;32m     14\u001b[0m         \u001b[0my_pred\u001b[0m \u001b[0;34m=\u001b[0m \u001b[0mc\u001b[0m\u001b[0;34m.\u001b[0m\u001b[0mpredict\u001b[0m\u001b[0;34m(\u001b[0m\u001b[0mX_test\u001b[0m\u001b[0;34m)\u001b[0m\u001b[0;34m\u001b[0m\u001b[0;34m\u001b[0m\u001b[0m\n\u001b[1;32m     15\u001b[0m         \u001b[0mmse\u001b[0m \u001b[0;34m=\u001b[0m \u001b[0mmean_squared_error\u001b[0m\u001b[0;34m(\u001b[0m\u001b[0my_pred\u001b[0m\u001b[0;34m,\u001b[0m \u001b[0my_test\u001b[0m\u001b[0;34m)\u001b[0m\u001b[0;34m\u001b[0m\u001b[0;34m\u001b[0m\u001b[0m\n",
      "\u001b[0;31mNameError\u001b[0m: name 'clients' is not defined"
     ]
    }
   ],
   "source": [
    "def federated_learning(n_clients, n_iter, eta=1.5):\n",
    "    # divide the data between n_clients\n",
    "    Xs_train, ys_train, X_test, y_test = get_data(n_clients=n_clients)\n",
    "\n",
    "    # Instantiate the clients.\n",
    "    ...\n",
    "    \n",
    "    for i in range(n_iter):\n",
    "        gradients = []\n",
    "        ...\n",
    "        \n",
    "    print('Error (MSE) that each client gets after running the protocol:')\n",
    "    for c in clients:\n",
    "        y_pred = c.predict(X_test)\n",
    "        mse = mean_squared_error(y_pred, y_test)\n",
    "        print('{:s}:\\t{:.2f}'.format(c.name, mse))\n",
    "\n",
    "federated_learning(n_clients, n_iter)"
   ]
  },
  {
   "cell_type": "code",
   "execution_count": 18,
   "id": "7561d8c6",
   "metadata": {},
   "outputs": [],
   "source": [
    "### Homomorphic encryption"
   ]
  },
  {
   "cell_type": "code",
   "execution_count": 19,
   "id": "a33e939d",
   "metadata": {},
   "outputs": [],
   "source": [
    "def encrypt_vector(public_key, x):\n",
    "    # encrypt each number separately\n",
    "    return [public_key.encrypt(i) for i in x]\n",
    "\n",
    "def decrypt_vector(private_key, x):\n",
    "    return np.array([private_key.decrypt(i) for i in x])\n",
    "\n",
    "def sum_encrypted_vectors(x, y):\n",
    "    # it is possible to sum encrypted vectors\n",
    "    if len(x) != len(y):\n",
    "        raise ValueError('Encrypted vectors must have the same size')\n",
    "    return [x[i] + y[i] for i in range(len(x))]"
   ]
  },
  {
   "cell_type": "markdown",
   "id": "13177152",
   "metadata": {},
   "source": [
    "Excercise: update the client (you can use above functions) by adding encrypted_gradient() function."
   ]
  },
  {
   "cell_type": "code",
   "execution_count": 21,
   "id": "1263096a",
   "metadata": {},
   "outputs": [],
   "source": [
    "class Client:\n",
    "    \"\"\"Runs linear regression with local data or by gradient steps,\n",
    "    where gradient can be passed in.\n",
    "    Using public key can encrypt locally computed gradients.\n",
    "    \"\"\"\n",
    "\n",
    "    def __init__(self, name, X, y, pubkey=None):\n",
    "        self.name = name\n",
    "        self.pubkey = pubkey\n",
    "        self.X, self.y = X, y\n",
    "        self.weights = np.zeros(X.shape[1])\n",
    "\n",
    "    def fit(self, n_iter, eta=0.01):\n",
    "        \"\"\"Linear regression for n_iter\"\"\"\n",
    "        for _ in range(n_iter):\n",
    "            gradient = self.compute_gradient()\n",
    "            self.gradient_step(gradient, eta)\n",
    "\n",
    "    def gradient_step(self, gradient, eta=0.01):\n",
    "        \"\"\"Update the model with the given gradient\"\"\"\n",
    "        self.weights -= eta * gradient\n",
    "\n",
    "    def compute_gradient(self):\n",
    "        \"\"\"Compute the gradient of the current model using the training set\n",
    "        \"\"\"\n",
    "        delta = self.predict(self.X) - self.y\n",
    "        return delta.dot(self.X) / len(self.X)\n",
    "\n",
    "    def predict(self, X):\n",
    "        \"\"\"Score test data\"\"\"\n",
    "        return X.dot(self.weights)\n",
    "\n",
    "    def encrypted_gradient(self, sum_to=None):\n",
    "        \"\"\"Compute and encrypt gradient.\n",
    "        When `sum_to` is given, sum the encrypted gradient to it, assumed\n",
    "        to be another vector of the same size\n",
    "        \"\"\"\n",
    "        ..."
   ]
  },
  {
   "cell_type": "code",
   "execution_count": 22,
   "id": "4d884bd5",
   "metadata": {},
   "outputs": [],
   "source": [
    "## Define server class"
   ]
  },
  {
   "cell_type": "code",
   "execution_count": 23,
   "id": "31e02e4d",
   "metadata": {},
   "outputs": [],
   "source": [
    "class Server:\n",
    "    \"\"\"Private key holder. Decrypts the average gradient\"\"\"\n",
    "\n",
    "    def __init__(self, key_length):\n",
    "         keypair = paillier.generate_paillier_keypair(n_length=key_length)\n",
    "         self.pubkey, self.privkey = keypair\n",
    "\n",
    "    def decrypt_aggregate(self, input_model, n_clients):\n",
    "        # it only ever gets aggregated gradient so even if it can decrypt the gradient it cannot deduce\n",
    "        # what data is stored at different clients\n",
    "        return decrypt_vector(self.privkey, input_model) / n_clients"
   ]
  },
  {
   "cell_type": "markdown",
   "id": "0a30c6fe",
   "metadata": {},
   "source": [
    "Excercise: update the federated_learning function to work with the encryption:"
   ]
  },
  {
   "cell_type": "code",
   "execution_count": 25,
   "id": "28cd12d4",
   "metadata": {},
   "outputs": [],
   "source": [
    "def federated_learning(n_clients, n_iter=50, eta=1.5):\n",
    "    # divide the data between n_clients\n",
    "    Xs_train, ys_train, X_test, y_test = get_data(n_clients=n_clients)\n",
    "\n",
    "    # Instantiate the server and generate private and public keys\n",
    "    ...\n",
    "\n",
    "    # Instantiate the clients.\n",
    "    # Each client gets the public key at creation and its own local dataset\n",
    "    clients = []\n",
    "    ...\n",
    "\n",
    "    # The federated learning with gradient descent\n",
    "    print('Running distributed gradient aggregation for {:d} iterations'\n",
    "          .format(n_iter))\n",
    "    for i in range(n_iter):\n",
    "\n",
    "        # Compute gradients, encrypt and aggregate\n",
    "        ...\n",
    "\n",
    "        # Send aggregate to server and decrypt it\n",
    "        ...\n",
    "\n",
    "        # Take gradient steps\n",
    "        ...\n",
    "\n",
    "    print('Error (MSE) that each client gets after running the protocol:')\n",
    "    for c in clients:\n",
    "        y_pred = c.predict(X_test)\n",
    "        mse = mean_squared_error(y_pred, y_test)\n",
    "        print('{:s}:\\t{:.2f}'.format(c.name, mse))"
   ]
  },
  {
   "cell_type": "code",
   "execution_count": null,
   "id": "97bd9747",
   "metadata": {},
   "outputs": [],
   "source": [
    "n_clients = 3\n",
    "n_iter = 50\n",
    "\n",
    "# first each hospital learns a model on its respective dataset for comparison.\n",
    "local_learning(n_clients, n_iter=50, eta=1.5)\n",
    "# and now the full glory of federated learning\n",
    "federated_learning(n_clients, n_iter=50, eta=1.5)"
   ]
  }
 ],
 "metadata": {
  "kernelspec": {
   "display_name": "Python 3 (ipykernel)",
   "language": "python",
   "name": "python3"
  },
  "language_info": {
   "codemirror_mode": {
    "name": "ipython",
    "version": 3
   },
   "file_extension": ".py",
   "mimetype": "text/x-python",
   "name": "python",
   "nbconvert_exporter": "python",
   "pygments_lexer": "ipython3",
   "version": "3.7.11"
  }
 },
 "nbformat": 4,
 "nbformat_minor": 5
}
