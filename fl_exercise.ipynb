{
 "cells": [
  {
   "cell_type": "markdown",
   "id": "bf2ffe6b",
   "metadata": {},
   "source": [
    "## Getting Started <a class=\"anchor\" id=\"get-started\"></a>\n",
    "\n",
    "1. Previous experience with `Python` is required. Understanding general machine learning concepts is advisable\n",
    "1. We will be using `Jupyter` (`jupyter notebook` or `jupyter lab` will work just fine). For a quick intro refer to: [Introduction to Jupyter](jupyter_intro.ipynb)\n",
    "\n",
    "1. You will also need to have installed few additional libraries: `scikit-learn`, `phe`, `numpy` and `matplotlib`.\n",
    "    If you don't have them already installed you can do so (using `pip`) by executing the line below:"
   ]
  },
  {
   "cell_type": "code",
   "execution_count": null,
   "id": "f6ca358a",
   "metadata": {},
   "outputs": [],
   "source": [
    "# install\n",
    "import sys\n",
    "!{sys.executable} -m pip install numpy matplotlib phe sklearn"
   ]
  },
  {
   "cell_type": "code",
   "execution_count": null,
   "id": "765488b8",
   "metadata": {},
   "outputs": [],
   "source": [
    "# import libraries\n",
    "import matplotlib.pylab as plt\n",
    "import numpy as np\n",
    "from sklearn.datasets import load_diabetes\n",
    "from sklearn.metrics import mean_squared_error\n",
    "\n",
    "import phe as paillier\n",
    "\n",
    "seed = 42\n",
    "np.random.seed(seed)\n",
    "\n",
    "%matplotlib inline"
   ]
  },
  {
   "cell_type": "markdown",
   "id": "ee8acb1b",
   "metadata": {},
   "source": [
    "### Understand the data"
   ]
  },
  {
   "cell_type": "code",
   "execution_count": null,
   "id": "ee57b086",
   "metadata": {},
   "outputs": [],
   "source": [
    "diabetes = load_diabetes()\n",
    "y = diabetes.target\n",
    "X = diabetes.data\n",
    "\n",
    "print(f'Data consists of {len(X)} diabetes patients')\n",
    "print(f'and {X.shape[1]} baseline variables:')\n",
    "print('age, sex, body mass index, average blood pressure, and six blood serum measurements')"
   ]
  },
  {
   "cell_type": "markdown",
   "id": "e39a3071",
   "metadata": {},
   "source": [
    "Target column is a quantitative measure of disease progression one year after baseline"
   ]
  },
  {
   "cell_type": "code",
   "execution_count": null,
   "id": "d7420b17",
   "metadata": {},
   "outputs": [],
   "source": [
    "def plot_target(ax, y):\n",
    "    y_sorted = np.argsort(y)\n",
    "\n",
    "    ax.set_title('sorted target')\n",
    "    ax.plot(y[y_sorted])\n",
    "    ax.set_ylabel('disease progression')\n",
    "    ax.set_xlabel('patient [n]')\n",
    "\n",
    "    # Hide the right and top spines\n",
    "    ax.spines['right'].set_visible(False)\n",
    "    ax.spines['top'].set_visible(False)\n",
    "ax = plt.subplot(111)\n",
    "plot_target(ax, y)"
   ]
  },
  {
   "cell_type": "code",
   "execution_count": null,
   "id": "fffdbcd6",
   "metadata": {},
   "outputs": [],
   "source": [
    "# split to test and train datasets\n",
    "\n",
    "test_size = 50\n",
    "test_idx = np.random.choice(X.shape[0], size=test_size, replace=False)\n",
    "train_idx = np.ones(X.shape[0], dtype=bool)\n",
    "train_idx[test_idx] = False\n",
    "X_test, y_test = X[test_idx, :], y[test_idx]\n",
    "X_train, y_train = X[train_idx, :], y[train_idx]"
   ]
  },
  {
   "cell_type": "markdown",
   "id": "8060a7f9",
   "metadata": {},
   "source": [
    "### train the model"
   ]
  },
  {
   "cell_type": "code",
   "execution_count": null,
   "id": "b7d35ece",
   "metadata": {},
   "outputs": [],
   "source": [
    "class Client:\n",
    "    \"\"\"\n",
    "    Client using linear regression to fit the data\n",
    "    \"\"\"\n",
    "    def __init__(self, name):\n",
    "        self.name = name\n",
    "        self.weights = np.zeros(X.shape[1])\n",
    "    \n",
    "    def fit(self, X, y, n_iter, eta=0.01):\n",
    "        \"\"\"Linear regression for n_iter\"\"\"\n",
    "        for _ in range(n_iter):\n",
    "            gradient = self.compute_gradient(X, y)\n",
    "            self.gradient_step(gradient, eta)\n",
    "    \n",
    "    def compute_gradient(self, X, y):\n",
    "        \"\"\"Compute the gradient of the current model using the training set\n",
    "        \"\"\"\n",
    "        delta = self.predict(X) - y\n",
    "        return delta.dot(X) / len(X)\n",
    "\n",
    "    def gradient_step(self, gradient, eta=0.01):\n",
    "        \"\"\"Update the model with the given gradient\"\"\"\n",
    "        self.weights -= eta * gradient\n",
    "\n",
    "    def predict(self, X):\n",
    "        \"\"\"Score test data\"\"\"\n",
    "        return X.dot(self.weights)\n",
    "\n",
    "n_iter = 50\n",
    "c = Client(name=\"Hospital\")\n",
    "c.fit(X_train, y_train, n_iter=n_iter, eta=1.5)\n",
    "y_pred = c.predict(X_test)"
   ]
  },
  {
   "cell_type": "code",
   "execution_count": null,
   "id": "8de98c84",
   "metadata": {},
   "outputs": [],
   "source": [
    "mse = mean_squared_error(y_pred, y_test)\n",
    "print('{:s}:\\t{:.2f}'.format(c.name, mse))"
   ]
  },
  {
   "cell_type": "markdown",
   "id": "05b698b4",
   "metadata": {},
   "source": [
    "## split the data between clients\n",
    "\n",
    "Now we are ready to start adding bits and pieces to create the federated learning.\n",
    "\n",
    "First, we will split the data to multiple locations. Let's imagine hospitals:"
   ]
  },
  {
   "cell_type": "code",
   "execution_count": null,
   "id": "b41e4819",
   "metadata": {},
   "outputs": [],
   "source": [
    "# note: this and most of the following functions are reused from phe example cited above\n",
    "def get_data(n_clients):\n",
    "    \"\"\"\n",
    "    Import the dataset via sklearn, shuffle and split train/test.\n",
    "    Return training, target lists for `n_clients` and a holdout test set\n",
    "    \"\"\"\n",
    "    print(\"Loading data\")\n",
    "    diabetes = load_diabetes()\n",
    "    y = diabetes.target\n",
    "    X = diabetes.data\n",
    "    # Add bias\n",
    "    X = np.c_[X, np.ones(X.shape[0])]\n",
    "\n",
    "    # The features are already preprocessed\n",
    "    # Shuffle\n",
    "    perm = np.random.permutation(X.shape[0])\n",
    "    X, y = X[perm, :], y[perm]\n",
    "\n",
    "    # Select test at random\n",
    "    test_size = 50\n",
    "    test_idx = np.random.choice(X.shape[0], size=test_size, replace=False)\n",
    "    train_idx = np.ones(X.shape[0], dtype=bool)\n",
    "    train_idx[test_idx] = False\n",
    "    X_test, y_test = X[test_idx, :], y[test_idx]\n",
    "    X_train, y_train = X[train_idx, :], y[train_idx]\n",
    "\n",
    "    # Split train among multiple clients.\n",
    "    # The selection is not at random. We simulate the fact that each client\n",
    "    # sees a potentially very different sample of patients.\n",
    "    X, y = [], []\n",
    "    step = int(X_train.shape[0] / n_clients)\n",
    "    for c in range(n_clients):\n",
    "        X.append(X_train[step * c: step * (c + 1), :])\n",
    "        y.append(y_train[step * c: step * (c + 1)])\n",
    "\n",
    "    return X, y, X_test, y_test"
   ]
  },
  {
   "cell_type": "code",
   "execution_count": null,
   "id": "4a4e1281",
   "metadata": {},
   "outputs": [],
   "source": [
    "# load data, train/test split and split training data between clients\n",
    "n_clients = 3\n",
    "Xs_train, ys_train, X_test, y_test = get_data(n_clients=n_clients)"
   ]
  },
  {
   "cell_type": "markdown",
   "id": "337b85ed",
   "metadata": {},
   "source": [
    "### store data at the client\n",
    "\n",
    "Excercise: update the `Client` so that the data is stored in the class. "
   ]
  },
  {
   "cell_type": "code",
   "execution_count": null,
   "id": "26f6b8ee",
   "metadata": {},
   "outputs": [],
   "source": []
  },
  {
   "cell_type": "code",
   "execution_count": null,
   "id": "ae7e86a1",
   "metadata": {},
   "outputs": [],
   "source": [
    "# instantiate, train, score the clients\n",
    "n_iter = 50\n",
    "\n",
    "for i in range(n_clients):\n",
    "    c = Client(name=\"Hospital\" + str(i), X=Xs_train[i], y=ys_train[i])\n",
    "    c.fit(n_iter=n_iter, eta=1.5)\n",
    "    y_pred = c.predict(X_test)\n",
    "    mse = mean_squared_error(y_pred, y_test)\n",
    "    print('{:s}:\\t{:.2f}'.format(c.name, mse))"
   ]
  },
  {
   "cell_type": "code",
   "execution_count": null,
   "id": "c3c62792",
   "metadata": {},
   "outputs": [],
   "source": [
    "def local_learning(n_clients, n_iter=50, eta=1.5):\n",
    "    # divide the data between n_clients\n",
    "    Xs_train, ys_train, X_test, y_test = get_data(n_clients=n_clients)\n",
    "\n",
    "    # create n_clients \n",
    "    for i in range(n_clients):\n",
    "        c = Client(name=\"Hospital\" + str(i), X=Xs_train[i], y=ys_train[i])\n",
    "        c.fit(n_iter=n_iter, eta=eta)\n",
    "        y_pred = c.predict(X_test)\n",
    "        mse = mean_squared_error(y_pred, y_test)\n",
    "        print('{:s}:\\t{:.2f}'.format(c.name, mse))\n",
    "\n",
    "n_clients = 3\n",
    "n_iter = 50\n",
    "local_learning(n_clients, n_iter)"
   ]
  },
  {
   "cell_type": "markdown",
   "id": "e6accb02",
   "metadata": {},
   "source": [
    "### aggregate gradients"
   ]
  },
  {
   "cell_type": "markdown",
   "id": "3bf62604",
   "metadata": {},
   "source": [
    "Excercise: define `federated_learning` function which at each round will receive the calculated gradients from each `Client`, average them together and then pass them back for further training."
   ]
  },
  {
   "cell_type": "code",
   "execution_count": null,
   "id": "84e37a7b",
   "metadata": {},
   "outputs": [],
   "source": [
    "def federated_learning(n_clients, n_iter, eta=1.5):\n",
    "    # divide the data between n_clients\n",
    "    Xs_train, ys_train, X_test, y_test = get_data(n_clients=n_clients)\n",
    "\n",
    "    # Instantiate the clients.\n",
    "    ...\n",
    "    \n",
    "    for i in range(n_iter):\n",
    "        gradients = []\n",
    "        ...\n",
    "        \n",
    "    print('Error (MSE) that each client gets after running the protocol:')\n",
    "    for c in clients:\n",
    "        y_pred = c.predict(X_test)\n",
    "        mse = mean_squared_error(y_pred, y_test)\n",
    "        print('{:s}:\\t{:.2f}'.format(c.name, mse))\n",
    "\n",
    "federated_learning(n_clients, n_iter)"
   ]
  },
  {
   "cell_type": "code",
   "execution_count": null,
   "id": "1875eba2",
   "metadata": {},
   "outputs": [],
   "source": [
    "### Homomorphic encryption"
   ]
  },
  {
   "cell_type": "code",
   "execution_count": null,
   "id": "b7fa194d",
   "metadata": {},
   "outputs": [],
   "source": [
    "def encrypt_vector(public_key, x):\n",
    "    # encrypt each number separately\n",
    "    return [public_key.encrypt(i) for i in x]\n",
    "\n",
    "def decrypt_vector(private_key, x):\n",
    "    return np.array([private_key.decrypt(i) for i in x])\n",
    "\n",
    "def sum_encrypted_vectors(x, y):\n",
    "    # it is possible to sum encrypted vectors\n",
    "    if len(x) != len(y):\n",
    "        raise ValueError('Encrypted vectors must have the same size')\n",
    "    return [x[i] + y[i] for i in range(len(x))]"
   ]
  },
  {
   "cell_type": "markdown",
   "id": "4e1e042a",
   "metadata": {},
   "source": [
    "Excercise: update the client (you can use above functions) by adding encrypted_gradient() function."
   ]
  },
  {
   "cell_type": "code",
   "execution_count": null,
   "id": "52d98538",
   "metadata": {},
   "outputs": [],
   "source": [
    "class Client:\n",
    "    \"\"\"Runs linear regression with local data or by gradient steps,\n",
    "    where gradient can be passed in.\n",
    "    Using public key can encrypt locally computed gradients.\n",
    "    \"\"\"\n",
    "\n",
    "    def __init__(self, name, X, y, pubkey=None):\n",
    "        self.name = name\n",
    "        self.pubkey = pubkey\n",
    "        self.X, self.y = X, y\n",
    "        self.weights = np.zeros(X.shape[1])\n",
    "\n",
    "    def fit(self, n_iter, eta=0.01):\n",
    "        \"\"\"Linear regression for n_iter\"\"\"\n",
    "        for _ in range(n_iter):\n",
    "            gradient = self.compute_gradient()\n",
    "            self.gradient_step(gradient, eta)\n",
    "\n",
    "    def gradient_step(self, gradient, eta=0.01):\n",
    "        \"\"\"Update the model with the given gradient\"\"\"\n",
    "        self.weights -= eta * gradient\n",
    "\n",
    "    def compute_gradient(self):\n",
    "        \"\"\"Compute the gradient of the current model using the training set\n",
    "        \"\"\"\n",
    "        delta = self.predict(self.X) - self.y\n",
    "        return delta.dot(self.X) / len(self.X)\n",
    "\n",
    "    def predict(self, X):\n",
    "        \"\"\"Score test data\"\"\"\n",
    "        return X.dot(self.weights)\n",
    "\n",
    "    def encrypted_gradient(self, sum_to=None):\n",
    "        \"\"\"Compute and encrypt gradient.\n",
    "        When `sum_to` is given, sum the encrypted gradient to it, assumed\n",
    "        to be another vector of the same size\n",
    "        \"\"\"\n",
    "        ..."
   ]
  },
  {
   "cell_type": "code",
   "execution_count": null,
   "id": "86c81183",
   "metadata": {},
   "outputs": [],
   "source": [
    "## Define server class"
   ]
  },
  {
   "cell_type": "code",
   "execution_count": null,
   "id": "eaf239e9",
   "metadata": {},
   "outputs": [],
   "source": [
    "class Server:\n",
    "    \"\"\"Private key holder. Decrypts the average gradient\"\"\"\n",
    "\n",
    "    def __init__(self, key_length):\n",
    "         keypair = paillier.generate_paillier_keypair(n_length=key_length)\n",
    "         self.pubkey, self.privkey = keypair\n",
    "\n",
    "    def decrypt_aggregate(self, input_model, n_clients):\n",
    "        # it only ever gets aggregated gradient so even if it can decrypt the gradient it cannot deduce\n",
    "        # what data is stored at different clients\n",
    "        return decrypt_vector(self.privkey, input_model) / n_clients"
   ]
  },
  {
   "cell_type": "markdown",
   "id": "ae6840e3",
   "metadata": {},
   "source": [
    "Excercise: update the federated_learning function to work with the encryption:"
   ]
  },
  {
   "cell_type": "code",
   "execution_count": null,
   "id": "e6fc60dd",
   "metadata": {},
   "outputs": [],
   "source": [
    "def federated_learning(n_clients, n_iter=50, eta=1.5):\n",
    "    # divide the data between n_clients\n",
    "    Xs_train, ys_train, X_test, y_test = get_data(n_clients=n_clients)\n",
    "\n",
    "    # Instantiate the server and generate private and public keys\n",
    "    ...\n",
    "\n",
    "    # Instantiate the clients.\n",
    "    # Each client gets the public key at creation and its own local dataset\n",
    "    clients = []\n",
    "    ...\n",
    "\n",
    "    # The federated learning with gradient descent\n",
    "    print('Running distributed gradient aggregation for {:d} iterations'\n",
    "          .format(n_iter))\n",
    "    for i in range(n_iter):\n",
    "\n",
    "        # Compute gradients, encrypt and aggregate\n",
    "        ...\n",
    "\n",
    "        # Send aggregate to server and decrypt it\n",
    "        ...\n",
    "\n",
    "        # Take gradient steps\n",
    "        ...\n",
    "\n",
    "    print('Error (MSE) that each client gets after running the protocol:')\n",
    "    for c in clients:\n",
    "        y_pred = c.predict(X_test)\n",
    "        mse = mean_squared_error(y_pred, y_test)\n",
    "        print('{:s}:\\t{:.2f}'.format(c.name, mse))"
   ]
  },
  {
   "cell_type": "code",
   "execution_count": null,
   "id": "241ffc55",
   "metadata": {},
   "outputs": [],
   "source": [
    "n_clients = 3\n",
    "n_iter = 50\n",
    "\n",
    "# first each hospital learns a model on its respective dataset for comparison.\n",
    "local_learning(n_clients, n_iter=50, eta=1.5)\n",
    "# and now the full glory of federated learning\n",
    "federated_learning(n_clients, n_iter=50, eta=1.5)"
   ]
  }
 ],
 "metadata": {
  "kernelspec": {
   "display_name": "Python 3 (ipykernel)",
   "language": "python",
   "name": "python3"
  },
  "language_info": {
   "codemirror_mode": {
    "name": "ipython",
    "version": 3
   },
   "file_extension": ".py",
   "mimetype": "text/x-python",
   "name": "python",
   "nbconvert_exporter": "python",
   "pygments_lexer": "ipython3",
   "version": "3.7.11"
  }
 },
 "nbformat": 4,
 "nbformat_minor": 5
}
