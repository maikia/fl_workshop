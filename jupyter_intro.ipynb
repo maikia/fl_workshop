{
 "cells": [
  {
   "cell_type": "markdown",
   "id": "7802c384",
   "metadata": {},
   "source": [
    "# Quick introduction to Jupyter Notebook"
   ]
  },
  {
   "cell_type": "markdown",
   "id": "2c7bd7dc",
   "metadata": {},
   "source": [
    "Jupyter Notebook is a Python editor which runs in your browser locally on your computer (ie does not require an internet connection).\n",
    "\n",
    "You will be able to see the results of your lines of code directly below the cell which you execute.\n",
    "\n",
    "to run Jupyter lab in your terminal type: `jupyter lab`\n",
    "\n",
    "alternatively you may want to run Jupyter notebook which is more advanced product of jupyter: `jupyter lab`\n",
    "\n",
    "`Esc` : takes you into command mode, there you can use:\n",
    "\n",
    "`a` : insert a new cell above\n",
    "\n",
    "`b` : insert a new cell below\n",
    "\n",
    "`m` : change the current cell to Markdown\n",
    "\n",
    "`y` : change the current cell to code\n",
    "\n",
    "`x` : delete the current cell\n",
    "\n",
    "`z` : undo your last cell operation\n",
    "\n",
    "You can also use menus to perform those actions\n",
    "\n",
    "`Enter` : go back to edit mode\n",
    "\n",
    "`Shift` + `Enter` : execute the cell, move to the cell below\n",
    "\n",
    "`?` : help\n",
    "\n",
    "In the cells where you write Python code you can also write text. To do that you can use #"
   ]
  },
  {
   "cell_type": "code",
   "execution_count": 1,
   "id": "e40b3b2f",
   "metadata": {},
   "outputs": [],
   "source": [
    "# my comment is here"
   ]
  },
  {
   "cell_type": "markdown",
   "id": "4f476e7f",
   "metadata": {},
   "source": [
    "The above comment will be ignored by Python"
   ]
  },
  {
   "cell_type": "markdown",
   "id": "617ef93c",
   "metadata": {},
   "source": [
    "Go back to go to [Federated Learning Workshop](fl_workshop.ipynb)"
   ]
  },
  {
   "cell_type": "code",
   "execution_count": null,
   "id": "d4070417",
   "metadata": {},
   "outputs": [],
   "source": []
  }
 ],
 "metadata": {
  "kernelspec": {
   "display_name": "Python 3 (ipykernel)",
   "language": "python",
   "name": "python3"
  },
  "language_info": {
   "codemirror_mode": {
    "name": "ipython",
    "version": 3
   },
   "file_extension": ".py",
   "mimetype": "text/x-python",
   "name": "python",
   "nbconvert_exporter": "python",
   "pygments_lexer": "ipython3",
   "version": "3.7.11"
  }
 },
 "nbformat": 4,
 "nbformat_minor": 5
}
